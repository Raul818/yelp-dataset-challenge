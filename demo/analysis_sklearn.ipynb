{
 "cells": [
  {
   "cell_type": "code",
   "execution_count": 128,
   "metadata": {
    "collapsed": false
   },
   "outputs": [],
   "source": [
    "import pandas as pd\n",
    "import json as json\n",
    "import numpy as np\n",
    "from sklearn.naive_bayes import GaussianNB\n",
    "from sklearn import preprocessing"
   ]
  },
  {
   "cell_type": "code",
   "execution_count": 129,
   "metadata": {
    "collapsed": false
   },
   "outputs": [
    {
     "data": {
      "text/html": [
       "<div>\n",
       "<table border=\"1\" class=\"dataframe\">\n",
       "  <thead>\n",
       "    <tr style=\"text-align: right;\">\n",
       "      <th></th>\n",
       "      <th>attributes</th>\n",
       "      <th>business_id</th>\n",
       "      <th>checkin_count</th>\n",
       "      <th>city</th>\n",
       "      <th>hours</th>\n",
       "      <th>index</th>\n",
       "      <th>sentiment_value_x</th>\n",
       "      <th>sentiment_value_y</th>\n",
       "      <th>stars</th>\n",
       "      <th>useful</th>\n",
       "    </tr>\n",
       "  </thead>\n",
       "  <tbody>\n",
       "    <tr>\n",
       "      <th>0</th>\n",
       "      <td>{u'Alcohol': u'full_bar', u'Noise Level': u'av...</td>\n",
       "      <td>mVHrayjG3uZ_RLHkLj-AMg</td>\n",
       "      <td>28</td>\n",
       "      <td>Braddock</td>\n",
       "      <td>{u'Tuesday': {u'close': u'19:00', u'open': u'1...</td>\n",
       "      <td>0</td>\n",
       "      <td>0.126932</td>\n",
       "      <td>-0.500000</td>\n",
       "      <td>4.5</td>\n",
       "      <td>44.280000</td>\n",
       "    </tr>\n",
       "    <tr>\n",
       "      <th>1</th>\n",
       "      <td>{u'Alcohol': u'full_bar', u'Noise Level': u'lo...</td>\n",
       "      <td>KayYbHCt-RkbGcPdGOThNg</td>\n",
       "      <td>65</td>\n",
       "      <td>Carnegie</td>\n",
       "      <td>{u'Monday': {u'close': u'02:00', u'open': u'11...</td>\n",
       "      <td>1</td>\n",
       "      <td>0.419308</td>\n",
       "      <td>1.083333</td>\n",
       "      <td>4.0</td>\n",
       "      <td>304.263158</td>\n",
       "    </tr>\n",
       "    <tr>\n",
       "      <th>2</th>\n",
       "      <td>{u'Alcohol': u'none', u'Noise Level': u'averag...</td>\n",
       "      <td>b9WZJp5L1RZr4F1nxclOoQ</td>\n",
       "      <td>125</td>\n",
       "      <td>Carnegie</td>\n",
       "      <td>{u'Monday': {u'close': u'14:30', u'open': u'06...</td>\n",
       "      <td>2</td>\n",
       "      <td>0.099039</td>\n",
       "      <td>0.518519</td>\n",
       "      <td>4.5</td>\n",
       "      <td>216.609375</td>\n",
       "    </tr>\n",
       "    <tr>\n",
       "      <th>3</th>\n",
       "      <td>{u'Take-out': True, u'Accepts Credit Cards': T...</td>\n",
       "      <td>P1fJb2WQ1mXoiudj8UE44w</td>\n",
       "      <td>95</td>\n",
       "      <td>Carnegie</td>\n",
       "      <td>{u'Monday': {u'close': u'22:00', u'open': u'11...</td>\n",
       "      <td>3</td>\n",
       "      <td>-0.013215</td>\n",
       "      <td>0.238095</td>\n",
       "      <td>3.5</td>\n",
       "      <td>380.544304</td>\n",
       "    </tr>\n",
       "    <tr>\n",
       "      <th>4</th>\n",
       "      <td>{u'Take-out': True, u'Accepts Credit Cards': T...</td>\n",
       "      <td>6ilJq_05xRgek_8qUp36-g</td>\n",
       "      <td>112</td>\n",
       "      <td>Munhall</td>\n",
       "      <td>{u'Monday': {u'close': u'00:00', u'open': u'00...</td>\n",
       "      <td>4</td>\n",
       "      <td>-0.368287</td>\n",
       "      <td>0.138889</td>\n",
       "      <td>2.0</td>\n",
       "      <td>355.907407</td>\n",
       "    </tr>\n",
       "  </tbody>\n",
       "</table>\n",
       "</div>"
      ],
      "text/plain": [
       "                                          attributes             business_id  \\\n",
       "0  {u'Alcohol': u'full_bar', u'Noise Level': u'av...  mVHrayjG3uZ_RLHkLj-AMg   \n",
       "1  {u'Alcohol': u'full_bar', u'Noise Level': u'lo...  KayYbHCt-RkbGcPdGOThNg   \n",
       "2  {u'Alcohol': u'none', u'Noise Level': u'averag...  b9WZJp5L1RZr4F1nxclOoQ   \n",
       "3  {u'Take-out': True, u'Accepts Credit Cards': T...  P1fJb2WQ1mXoiudj8UE44w   \n",
       "4  {u'Take-out': True, u'Accepts Credit Cards': T...  6ilJq_05xRgek_8qUp36-g   \n",
       "\n",
       "   checkin_count      city                                              hours  \\\n",
       "0             28  Braddock  {u'Tuesday': {u'close': u'19:00', u'open': u'1...   \n",
       "1             65  Carnegie  {u'Monday': {u'close': u'02:00', u'open': u'11...   \n",
       "2            125  Carnegie  {u'Monday': {u'close': u'14:30', u'open': u'06...   \n",
       "3             95  Carnegie  {u'Monday': {u'close': u'22:00', u'open': u'11...   \n",
       "4            112   Munhall  {u'Monday': {u'close': u'00:00', u'open': u'00...   \n",
       "\n",
       "   index  sentiment_value_x  sentiment_value_y  stars      useful  \n",
       "0      0           0.126932          -0.500000    4.5   44.280000  \n",
       "1      1           0.419308           1.083333    4.0  304.263158  \n",
       "2      2           0.099039           0.518519    4.5  216.609375  \n",
       "3      3          -0.013215           0.238095    3.5  380.544304  \n",
       "4      4          -0.368287           0.138889    2.0  355.907407  "
      ]
     },
     "execution_count": 129,
     "metadata": {},
     "output_type": "execute_result"
    }
   ],
   "source": [
    "df = pd.read_json('preprocessed_business_data.json')\n",
    "df.head()"
   ]
  },
  {
   "cell_type": "code",
   "execution_count": 130,
   "metadata": {
    "collapsed": false
   },
   "outputs": [],
   "source": [
    "df_new = df.drop(['attributes','business_id', 'hours', 'index'] , axis=1)"
   ]
  },
  {
   "cell_type": "code",
   "execution_count": 131,
   "metadata": {
    "collapsed": false
   },
   "outputs": [
    {
     "data": {
      "text/html": [
       "<div>\n",
       "<table border=\"1\" class=\"dataframe\">\n",
       "  <thead>\n",
       "    <tr style=\"text-align: right;\">\n",
       "      <th></th>\n",
       "      <th>checkin_count</th>\n",
       "      <th>city</th>\n",
       "      <th>sentiment_value_x</th>\n",
       "      <th>sentiment_value_y</th>\n",
       "      <th>stars</th>\n",
       "      <th>useful</th>\n",
       "    </tr>\n",
       "  </thead>\n",
       "  <tbody>\n",
       "    <tr>\n",
       "      <th>0</th>\n",
       "      <td>28</td>\n",
       "      <td>Braddock</td>\n",
       "      <td>0.126932</td>\n",
       "      <td>-0.500000</td>\n",
       "      <td>4.5</td>\n",
       "      <td>44.280000</td>\n",
       "    </tr>\n",
       "    <tr>\n",
       "      <th>1</th>\n",
       "      <td>65</td>\n",
       "      <td>Carnegie</td>\n",
       "      <td>0.419308</td>\n",
       "      <td>1.083333</td>\n",
       "      <td>4.0</td>\n",
       "      <td>304.263158</td>\n",
       "    </tr>\n",
       "    <tr>\n",
       "      <th>2</th>\n",
       "      <td>125</td>\n",
       "      <td>Carnegie</td>\n",
       "      <td>0.099039</td>\n",
       "      <td>0.518519</td>\n",
       "      <td>4.5</td>\n",
       "      <td>216.609375</td>\n",
       "    </tr>\n",
       "    <tr>\n",
       "      <th>3</th>\n",
       "      <td>95</td>\n",
       "      <td>Carnegie</td>\n",
       "      <td>-0.013215</td>\n",
       "      <td>0.238095</td>\n",
       "      <td>3.5</td>\n",
       "      <td>380.544304</td>\n",
       "    </tr>\n",
       "    <tr>\n",
       "      <th>4</th>\n",
       "      <td>112</td>\n",
       "      <td>Munhall</td>\n",
       "      <td>-0.368287</td>\n",
       "      <td>0.138889</td>\n",
       "      <td>2.0</td>\n",
       "      <td>355.907407</td>\n",
       "    </tr>\n",
       "  </tbody>\n",
       "</table>\n",
       "</div>"
      ],
      "text/plain": [
       "   checkin_count      city  sentiment_value_x  sentiment_value_y  stars  \\\n",
       "0             28  Braddock           0.126932          -0.500000    4.5   \n",
       "1             65  Carnegie           0.419308           1.083333    4.0   \n",
       "2            125  Carnegie           0.099039           0.518519    4.5   \n",
       "3             95  Carnegie          -0.013215           0.238095    3.5   \n",
       "4            112   Munhall          -0.368287           0.138889    2.0   \n",
       "\n",
       "       useful  \n",
       "0   44.280000  \n",
       "1  304.263158  \n",
       "2  216.609375  \n",
       "3  380.544304  \n",
       "4  355.907407  "
      ]
     },
     "execution_count": 131,
     "metadata": {},
     "output_type": "execute_result"
    }
   ],
   "source": [
    "df_new.head()"
   ]
  },
  {
   "cell_type": "code",
   "execution_count": 132,
   "metadata": {
    "collapsed": false
   },
   "outputs": [
    {
     "name": "stdout",
     "output_type": "stream",
     "text": [
      "11207\n"
     ]
    }
   ],
   "source": [
    "print len(df)"
   ]
  },
  {
   "cell_type": "code",
   "execution_count": 133,
   "metadata": {
    "collapsed": false
   },
   "outputs": [
    {
     "name": "stdout",
     "output_type": "stream",
     "text": [
      "151\n"
     ]
    }
   ],
   "source": [
    "print len(df['city'].unique())"
   ]
  },
  {
   "cell_type": "code",
   "execution_count": 134,
   "metadata": {
    "collapsed": false
   },
   "outputs": [
    {
     "data": {
      "text/html": [
       "<div>\n",
       "<table border=\"1\" class=\"dataframe\">\n",
       "  <thead>\n",
       "    <tr style=\"text-align: right;\">\n",
       "      <th></th>\n",
       "      <th>checkin_count</th>\n",
       "      <th>city</th>\n",
       "      <th>sentiment_value_x</th>\n",
       "      <th>sentiment_value_y</th>\n",
       "      <th>stars</th>\n",
       "      <th>useful</th>\n",
       "    </tr>\n",
       "  </thead>\n",
       "  <tbody>\n",
       "    <tr>\n",
       "      <th>0</th>\n",
       "      <td>28</td>\n",
       "      <td>8</td>\n",
       "      <td>0.126932</td>\n",
       "      <td>-0.500000</td>\n",
       "      <td>4.5</td>\n",
       "      <td>44.280000</td>\n",
       "    </tr>\n",
       "    <tr>\n",
       "      <th>1</th>\n",
       "      <td>65</td>\n",
       "      <td>13</td>\n",
       "      <td>0.419308</td>\n",
       "      <td>1.083333</td>\n",
       "      <td>4.0</td>\n",
       "      <td>304.263158</td>\n",
       "    </tr>\n",
       "    <tr>\n",
       "      <th>2</th>\n",
       "      <td>125</td>\n",
       "      <td>13</td>\n",
       "      <td>0.099039</td>\n",
       "      <td>0.518519</td>\n",
       "      <td>4.5</td>\n",
       "      <td>216.609375</td>\n",
       "    </tr>\n",
       "    <tr>\n",
       "      <th>3</th>\n",
       "      <td>95</td>\n",
       "      <td>13</td>\n",
       "      <td>-0.013215</td>\n",
       "      <td>0.238095</td>\n",
       "      <td>3.5</td>\n",
       "      <td>380.544304</td>\n",
       "    </tr>\n",
       "    <tr>\n",
       "      <th>4</th>\n",
       "      <td>112</td>\n",
       "      <td>90</td>\n",
       "      <td>-0.368287</td>\n",
       "      <td>0.138889</td>\n",
       "      <td>2.0</td>\n",
       "      <td>355.907407</td>\n",
       "    </tr>\n",
       "  </tbody>\n",
       "</table>\n",
       "</div>"
      ],
      "text/plain": [
       "   checkin_count  city  sentiment_value_x  sentiment_value_y  stars  \\\n",
       "0             28     8           0.126932          -0.500000    4.5   \n",
       "1             65    13           0.419308           1.083333    4.0   \n",
       "2            125    13           0.099039           0.518519    4.5   \n",
       "3             95    13          -0.013215           0.238095    3.5   \n",
       "4            112    90          -0.368287           0.138889    2.0   \n",
       "\n",
       "       useful  \n",
       "0   44.280000  \n",
       "1  304.263158  \n",
       "2  216.609375  \n",
       "3  380.544304  \n",
       "4  355.907407  "
      ]
     },
     "execution_count": 134,
     "metadata": {},
     "output_type": "execute_result"
    }
   ],
   "source": [
    "cities = df['city'].unique()\n",
    "le = preprocessing.LabelEncoder()\n",
    "df_new.city = le.fit_transform(df_new.city)\n",
    "df_new.head()\n"
   ]
  },
  {
   "cell_type": "code",
   "execution_count": 135,
   "metadata": {
    "collapsed": true
   },
   "outputs": [],
   "source": [
    "from sklearn import cross_validation\n",
    "\n",
    "# Helper function\n",
    "def folds_to_split(data,targets,train,test):\n",
    "    data_tr = pd.DataFrame(data).iloc[train]\n",
    "    data_te = pd.DataFrame(data).iloc[test]\n",
    "    labels_tr = pd.DataFrame(targets).iloc[train]\n",
    "    labels_te = pd.DataFrame(targets).iloc[test]\n",
    "    return [data_tr, data_te, labels_tr, labels_te]"
   ]
  },
  {
   "cell_type": "code",
   "execution_count": 136,
   "metadata": {
    "collapsed": false
   },
   "outputs": [
    {
     "data": {
      "text/plain": [
       "0    4.5\n",
       "1    4.0\n",
       "2    4.5\n",
       "3    3.5\n",
       "4    2.0\n",
       "Name: stars, dtype: float64"
      ]
     },
     "execution_count": 136,
     "metadata": {},
     "output_type": "execute_result"
    }
   ],
   "source": [
    "labels = df_new.loc[:,'stars']\n",
    "df_attrs = df_new.drop(['stars'] , axis=1)\n",
    "labels.head()\n"
   ]
  },
  {
   "cell_type": "code",
   "execution_count": 137,
   "metadata": {
    "collapsed": false
   },
   "outputs": [
    {
     "data": {
      "text/html": [
       "<div>\n",
       "<table border=\"1\" class=\"dataframe\">\n",
       "  <thead>\n",
       "    <tr style=\"text-align: right;\">\n",
       "      <th></th>\n",
       "      <th>checkin_count</th>\n",
       "      <th>city</th>\n",
       "      <th>sentiment_value_x</th>\n",
       "      <th>sentiment_value_y</th>\n",
       "      <th>useful</th>\n",
       "    </tr>\n",
       "  </thead>\n",
       "  <tbody>\n",
       "    <tr>\n",
       "      <th>0</th>\n",
       "      <td>28</td>\n",
       "      <td>8</td>\n",
       "      <td>0.126932</td>\n",
       "      <td>-0.500000</td>\n",
       "      <td>44.280000</td>\n",
       "    </tr>\n",
       "    <tr>\n",
       "      <th>1</th>\n",
       "      <td>65</td>\n",
       "      <td>13</td>\n",
       "      <td>0.419308</td>\n",
       "      <td>1.083333</td>\n",
       "      <td>304.263158</td>\n",
       "    </tr>\n",
       "    <tr>\n",
       "      <th>2</th>\n",
       "      <td>125</td>\n",
       "      <td>13</td>\n",
       "      <td>0.099039</td>\n",
       "      <td>0.518519</td>\n",
       "      <td>216.609375</td>\n",
       "    </tr>\n",
       "    <tr>\n",
       "      <th>3</th>\n",
       "      <td>95</td>\n",
       "      <td>13</td>\n",
       "      <td>-0.013215</td>\n",
       "      <td>0.238095</td>\n",
       "      <td>380.544304</td>\n",
       "    </tr>\n",
       "    <tr>\n",
       "      <th>4</th>\n",
       "      <td>112</td>\n",
       "      <td>90</td>\n",
       "      <td>-0.368287</td>\n",
       "      <td>0.138889</td>\n",
       "      <td>355.907407</td>\n",
       "    </tr>\n",
       "  </tbody>\n",
       "</table>\n",
       "</div>"
      ],
      "text/plain": [
       "   checkin_count  city  sentiment_value_x  sentiment_value_y      useful\n",
       "0             28     8           0.126932          -0.500000   44.280000\n",
       "1             65    13           0.419308           1.083333  304.263158\n",
       "2            125    13           0.099039           0.518519  216.609375\n",
       "3             95    13          -0.013215           0.238095  380.544304\n",
       "4            112    90          -0.368287           0.138889  355.907407"
      ]
     },
     "execution_count": 137,
     "metadata": {},
     "output_type": "execute_result"
    }
   ],
   "source": [
    "df_attrs.head()"
   ]
  },
  {
   "cell_type": "code",
   "execution_count": 138,
   "metadata": {
    "collapsed": false
   },
   "outputs": [
    {
     "data": {
      "text/html": [
       "<div>\n",
       "<table border=\"1\" class=\"dataframe\">\n",
       "  <thead>\n",
       "    <tr style=\"text-align: right;\">\n",
       "      <th></th>\n",
       "      <th>stars</th>\n",
       "    </tr>\n",
       "  </thead>\n",
       "  <tbody>\n",
       "    <tr>\n",
       "      <th>0</th>\n",
       "      <td>4.5</td>\n",
       "    </tr>\n",
       "    <tr>\n",
       "      <th>1</th>\n",
       "      <td>4.0</td>\n",
       "    </tr>\n",
       "    <tr>\n",
       "      <th>2</th>\n",
       "      <td>4.5</td>\n",
       "    </tr>\n",
       "    <tr>\n",
       "      <th>3</th>\n",
       "      <td>3.5</td>\n",
       "    </tr>\n",
       "    <tr>\n",
       "      <th>4</th>\n",
       "      <td>2.0</td>\n",
       "    </tr>\n",
       "  </tbody>\n",
       "</table>\n",
       "</div>"
      ],
      "text/plain": [
       "   stars\n",
       "0    4.5\n",
       "1    4.0\n",
       "2    4.5\n",
       "3    3.5\n",
       "4    2.0"
      ]
     },
     "execution_count": 138,
     "metadata": {},
     "output_type": "execute_result"
    }
   ],
   "source": [
    "df_labels = labels.to_frame()\n",
    "df_labels.head()\n"
   ]
  },
  {
   "cell_type": "code",
   "execution_count": 139,
   "metadata": {
    "collapsed": false
   },
   "outputs": [
    {
     "data": {
      "text/plain": [
       "True"
      ]
     },
     "execution_count": 139,
     "metadata": {},
     "output_type": "execute_result"
    }
   ],
   "source": [
    "df_attrs.isnull().values.any()"
   ]
  },
  {
   "cell_type": "code",
   "execution_count": 140,
   "metadata": {
    "collapsed": false
   },
   "outputs": [],
   "source": [
    "df_attrs_clean=df_attrs.fillna(0)"
   ]
  },
  {
   "cell_type": "code",
   "execution_count": 141,
   "metadata": {
    "collapsed": false
   },
   "outputs": [
    {
     "data": {
      "text/plain": [
       "False"
      ]
     },
     "execution_count": 141,
     "metadata": {},
     "output_type": "execute_result"
    }
   ],
   "source": [
    "df_attrs_clean.isnull().values.any()"
   ]
  },
  {
   "cell_type": "code",
   "execution_count": 142,
   "metadata": {
    "collapsed": false
   },
   "outputs": [
    {
     "name": "stdout",
     "output_type": "stream",
     "text": [
      "Mean squared error: 0.16\n",
      "Variance score: 0.56\n"
     ]
    }
   ],
   "source": [
    "# Using Linear Regression\n",
    "from sklearn import linear_model\n",
    "regr = linear_model.LinearRegression()\n",
    "[tr_data, te_data, \n",
    " tr_labels, te_labels] = cross_validation.train_test_split(df_attrs_clean, df_labels, test_size=0.33,random_state=2016)\n",
    "\n",
    "regr.fit(tr_data, tr_labels)\n",
    "print(\"Mean squared error: %.2f\"\n",
    "      % np.mean((regr.predict(te_data) - te_labels) ** 2))\n",
    "print('Variance score: %.2f' % regr.score(te_data, te_labels))"
   ]
  },
  {
   "cell_type": "code",
   "execution_count": 143,
   "metadata": {
    "collapsed": false
   },
   "outputs": [
    {
     "data": {
      "text/plain": [
       "0    4.0\n",
       "1    4.0\n",
       "2    4.0\n",
       "3    4.0\n",
       "4    2.0\n",
       "Name: stars, dtype: float64"
      ]
     },
     "execution_count": 143,
     "metadata": {},
     "output_type": "execute_result"
    }
   ],
   "source": [
    "df_labels_rounded = df_labels['stars'].round(0)\n",
    "df_labels_rounded.head()"
   ]
  },
  {
   "cell_type": "code",
   "execution_count": 144,
   "metadata": {
    "collapsed": false
   },
   "outputs": [],
   "source": [
    "gnb = GaussianNB()\n",
    "[tr_data, te_data, \n",
    " tr_labels, te_labels] = cross_validation.train_test_split(df_attrs_clean, df_labels_rounded, test_size=0.33,random_state=2016)\n"
   ]
  },
  {
   "cell_type": "code",
   "execution_count": 145,
   "metadata": {
    "collapsed": false
   },
   "outputs": [
    {
     "data": {
      "text/plain": [
       "GaussianNB()"
      ]
     },
     "execution_count": 145,
     "metadata": {},
     "output_type": "execute_result"
    }
   ],
   "source": [
    "gnb.fit(tr_data, tr_labels.values.ravel())"
   ]
  },
  {
   "cell_type": "code",
   "execution_count": 146,
   "metadata": {
    "collapsed": false
   },
   "outputs": [
    {
     "data": {
      "text/plain": [
       "0.79535009462016759"
      ]
     },
     "execution_count": 146,
     "metadata": {},
     "output_type": "execute_result"
    }
   ],
   "source": [
    "gnb.score(te_data, te_labels)"
   ]
  },
  {
   "cell_type": "code",
   "execution_count": null,
   "metadata": {
    "collapsed": true
   },
   "outputs": [],
   "source": []
  }
 ],
 "metadata": {
  "kernelspec": {
   "display_name": "Python 2",
   "language": "python",
   "name": "python2"
  },
  "language_info": {
   "codemirror_mode": {
    "name": "ipython",
    "version": 2
   },
   "file_extension": ".py",
   "mimetype": "text/x-python",
   "name": "python",
   "nbconvert_exporter": "python",
   "pygments_lexer": "ipython2",
   "version": "2.7.12"
  }
 },
 "nbformat": 4,
 "nbformat_minor": 0
}
