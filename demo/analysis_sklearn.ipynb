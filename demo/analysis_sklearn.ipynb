{
 "cells": [
  {
   "cell_type": "code",
   "execution_count": 10,
   "metadata": {
    "collapsed": false
   },
   "outputs": [
    {
     "name": "stdout",
     "output_type": "stream",
     "text": [
      "Accuracy score : 0.932095971028\n"
     ]
    }
   ],
   "source": [
    "import pandas as pd\n",
    "import json as json\n",
    "import numpy as np\n",
    "from sklearn.naive_bayes import GaussianNB\n",
    "from sklearn import preprocessing\n",
    "from sklearn import cross_validation\n",
    "\n",
    "# Helper function\n",
    "def folds_to_split(data,targets,train,test):\n",
    "    data_tr = pd.DataFrame(data).iloc[train]\n",
    "    data_te = pd.DataFrame(data).iloc[test]\n",
    "    labels_tr = pd.DataFrame(targets).iloc[train]\n",
    "    labels_te = pd.DataFrame(targets).iloc[test]\n",
    "    return [data_tr, data_te, labels_tr, labels_te]\n",
    "\n",
    "# Using preprocessed data with rounded value of stars\n",
    "df = pd.read_json('preprocessed_business_data_new.json')\n",
    "\n",
    "# Eliminating nested features and irrelevant attributes\n",
    "df_new = df.drop(['attributes','business_id', 'hours', 'index', 'working_type'] , axis=1)\n",
    "cities = df['city'].unique()\n",
    "\n",
    "# Encoding categorical attribute \"city\"\n",
    "le = preprocessing.LabelEncoder()\n",
    "df_new.city = le.fit_transform(df_new.city)\n",
    "\n",
    "# Create labels\n",
    "labels = df_new.loc[:,'stars']\n",
    "\n",
    "# Create attributes dataframe\n",
    "df_attrs = df_new.drop(['stars'] , axis=1)\n",
    "\n",
    "# Create labels dataframe\n",
    "df_labels = labels.to_frame()\n",
    "\n",
    "# Create Gaussian Naive Bayes classifier\n",
    "gnb = GaussianNB()\n",
    "\n",
    "# Using train_test_split with 20% of the data as test\n",
    "[tr_data, te_data, \n",
    " tr_labels, te_labels] = cross_validation.train_test_split(df_attrs, df_labels, test_size=0.2,random_state=42)\n",
    "\n",
    "gnb.fit(tr_data, tr_labels.values.ravel())\n",
    "\n",
    "# Get accuracy score\n",
    "print \"Accuracy score :\", gnb.score(te_data, te_labels)"
   ]
  },
  {
   "cell_type": "markdown",
   "metadata": {},
   "source": [
    "Accuracy of Gaussian Naive Bayes classifier using train_test_split with 20% of the data as test : 0.932"
   ]
  },
  {
   "cell_type": "code",
   "execution_count": 11,
   "metadata": {
    "collapsed": false
   },
   "outputs": [
    {
     "name": "stdout",
     "output_type": "stream",
     "text": [
      "Accuracy score accross folds : \n",
      "       Score\n",
      "1   0.930317\n",
      "2   0.926697\n",
      "3   0.937500\n",
      "4   0.935688\n",
      "5   0.916667\n",
      "6   0.910326\n",
      "7   0.929348\n",
      "8   0.933877\n",
      "9   0.941123\n",
      "10  0.925725\n",
      "\n",
      "Mean accuracy score : Score    0.928727\n",
      "dtype: float64\n"
     ]
    }
   ],
   "source": [
    "foldnum = 0\n",
    "fold_results = pd.DataFrame()\n",
    "\n",
    "# Using 10-Fold cross validation\n",
    "for train, test in cross_validation.KFold(len(df_attrs), n_folds=10):\n",
    "    foldnum+=1\n",
    "    [tr_data, te_data,\n",
    "     tr_target, te_target] = folds_to_split(df_attrs,df_labels,train,test)\n",
    "    gnb = GaussianNB()\n",
    "    gnb.fit(tr_data, tr_target.values.ravel())\n",
    "    prob_arr_gnb = gnb.predict_proba(te_data)\n",
    "    score_gnb = gnb.score(te_data, te_target)\n",
    "    fold_results.loc[foldnum, 'Score'] = score_gnb\n",
    "\n",
    "print \"Accuracy score accross folds : \\n\", fold_results   \n",
    "# Get accuracy score accross folds    \n",
    "print \"\\nMean accuracy score :\", fold_results.mean()    "
   ]
  },
  {
   "cell_type": "markdown",
   "metadata": {
    "collapsed": true
   },
   "source": [
    "Accuracy of Gaussian Naive Bayes classifier using 10-Fold cross validation : 0.928727"
   ]
  }
 ],
 "metadata": {
  "kernelspec": {
   "display_name": "Python 2",
   "language": "python",
   "name": "python2"
  },
  "language_info": {
   "codemirror_mode": {
    "name": "ipython",
    "version": 2
   },
   "file_extension": ".py",
   "mimetype": "text/x-python",
   "name": "python",
   "nbconvert_exporter": "python",
   "pygments_lexer": "ipython2",
   "version": "2.7.12"
  }
 },
 "nbformat": 4,
 "nbformat_minor": 0
}
