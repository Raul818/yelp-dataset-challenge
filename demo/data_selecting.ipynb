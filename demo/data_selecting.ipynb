{
 "cells": [
  {
   "cell_type": "code",
   "execution_count": 1,
   "metadata": {
    "collapsed": true
   },
   "outputs": [],
   "source": [
    "from pandas.io.json import json_normalize\n",
    "import pandas as pd"
   ]
  },
  {
   "cell_type": "code",
   "execution_count": 2,
   "metadata": {
    "collapsed": false
   },
   "outputs": [
    {
     "data": {
      "text/plain": [
       "'0.19.0'"
      ]
     },
     "execution_count": 2,
     "metadata": {},
     "output_type": "execute_result"
    }
   ],
   "source": [
    "pd.__version__"
   ]
  },
  {
   "cell_type": "code",
   "execution_count": 3,
   "metadata": {
    "collapsed": false
   },
   "outputs": [],
   "source": [
    "df_checkin = pd.read_json('../../dataset/academic/yelp_academic_dataset_checkin.json', lines=True)"
   ]
  },
  {
   "cell_type": "code",
   "execution_count": 4,
   "metadata": {
    "collapsed": false
   },
   "outputs": [
    {
     "data": {
      "text/html": [
       "<div>\n",
       "<table border=\"1\" class=\"dataframe\">\n",
       "  <thead>\n",
       "    <tr style=\"text-align: right;\">\n",
       "      <th></th>\n",
       "      <th>business_id</th>\n",
       "      <th>checkin_info</th>\n",
       "      <th>type</th>\n",
       "    </tr>\n",
       "  </thead>\n",
       "  <tbody>\n",
       "    <tr>\n",
       "      <th>0</th>\n",
       "      <td>cE27W9VPgO88Qxe4ol6y_g</td>\n",
       "      <td>{'7-5': 1, '17-6': 1, '18-4': 1, '13-3': 1, '9...</td>\n",
       "      <td>checkin</td>\n",
       "    </tr>\n",
       "    <tr>\n",
       "      <th>1</th>\n",
       "      <td>mVHrayjG3uZ_RLHkLj-AMg</td>\n",
       "      <td>{'9-4': 3, '15-1': 1, '10-4': 3, '21-4': 1, '9...</td>\n",
       "      <td>checkin</td>\n",
       "    </tr>\n",
       "    <tr>\n",
       "      <th>2</th>\n",
       "      <td>mYSpR_SLPgUVymYOvTQd_Q</td>\n",
       "      <td>{'5-5': 1, '9-3': 1, '17-3': 1, '5-4': 1, '13-...</td>\n",
       "      <td>checkin</td>\n",
       "    </tr>\n",
       "    <tr>\n",
       "      <th>3</th>\n",
       "      <td>KayYbHCt-RkbGcPdGOThNg</td>\n",
       "      <td>{'14-2': 2, '15-1': 1, '19-5': 1, '8-3': 1, '1...</td>\n",
       "      <td>checkin</td>\n",
       "    </tr>\n",
       "    <tr>\n",
       "      <th>4</th>\n",
       "      <td>b12U9TFESStdy7CsTtcOeg</td>\n",
       "      <td>{'8-2': 1, '13-2': 1, '8-6': 1, '5-5': 2, '5-1...</td>\n",
       "      <td>checkin</td>\n",
       "    </tr>\n",
       "  </tbody>\n",
       "</table>\n",
       "</div>"
      ],
      "text/plain": [
       "              business_id                                       checkin_info  \\\n",
       "0  cE27W9VPgO88Qxe4ol6y_g  {'7-5': 1, '17-6': 1, '18-4': 1, '13-3': 1, '9...   \n",
       "1  mVHrayjG3uZ_RLHkLj-AMg  {'9-4': 3, '15-1': 1, '10-4': 3, '21-4': 1, '9...   \n",
       "2  mYSpR_SLPgUVymYOvTQd_Q  {'5-5': 1, '9-3': 1, '17-3': 1, '5-4': 1, '13-...   \n",
       "3  KayYbHCt-RkbGcPdGOThNg  {'14-2': 2, '15-1': 1, '19-5': 1, '8-3': 1, '1...   \n",
       "4  b12U9TFESStdy7CsTtcOeg  {'8-2': 1, '13-2': 1, '8-6': 1, '5-5': 2, '5-1...   \n",
       "\n",
       "      type  \n",
       "0  checkin  \n",
       "1  checkin  \n",
       "2  checkin  \n",
       "3  checkin  \n",
       "4  checkin  "
      ]
     },
     "execution_count": 4,
     "metadata": {},
     "output_type": "execute_result"
    }
   ],
   "source": [
    "df_checkin.head()"
   ]
  },
  {
   "cell_type": "code",
   "execution_count": 5,
   "metadata": {
    "collapsed": false
   },
   "outputs": [
    {
     "data": {
      "text/html": [
       "<div>\n",
       "<table border=\"1\" class=\"dataframe\">\n",
       "  <thead>\n",
       "    <tr style=\"text-align: right;\">\n",
       "      <th></th>\n",
       "      <th>10-3</th>\n",
       "      <th>10-4</th>\n",
       "      <th>10-5</th>\n",
       "      <th>11-0</th>\n",
       "      <th>11-1</th>\n",
       "      <th>11-2</th>\n",
       "      <th>12-2</th>\n",
       "      <th>12-4</th>\n",
       "      <th>13-0</th>\n",
       "      <th>13-2</th>\n",
       "      <th>...</th>\n",
       "      <th>21-2</th>\n",
       "      <th>21-4</th>\n",
       "      <th>21-5</th>\n",
       "      <th>22-5</th>\n",
       "      <th>23-1</th>\n",
       "      <th>8-1</th>\n",
       "      <th>8-3</th>\n",
       "      <th>8-4</th>\n",
       "      <th>9-1</th>\n",
       "      <th>9-4</th>\n",
       "    </tr>\n",
       "  </thead>\n",
       "  <tbody>\n",
       "    <tr>\n",
       "      <th>0</th>\n",
       "      <td>1</td>\n",
       "      <td>2</td>\n",
       "      <td>1</td>\n",
       "      <td>2</td>\n",
       "      <td>2</td>\n",
       "      <td>2</td>\n",
       "      <td>2</td>\n",
       "      <td>3</td>\n",
       "      <td>1</td>\n",
       "      <td>2</td>\n",
       "      <td>...</td>\n",
       "      <td>1</td>\n",
       "      <td>1</td>\n",
       "      <td>2</td>\n",
       "      <td>1</td>\n",
       "      <td>1</td>\n",
       "      <td>2</td>\n",
       "      <td>1</td>\n",
       "      <td>1</td>\n",
       "      <td>1</td>\n",
       "      <td>5</td>\n",
       "    </tr>\n",
       "  </tbody>\n",
       "</table>\n",
       "<p>1 rows × 44 columns</p>\n",
       "</div>"
      ],
      "text/plain": [
       "   10-3  10-4  10-5  11-0  11-1  11-2  12-2  12-4  13-0  13-2 ...   21-2  \\\n",
       "0     1     2     1     2     2     2     2     3     1     2 ...      1   \n",
       "\n",
       "   21-4  21-5  22-5  23-1  8-1  8-3  8-4  9-1  9-4  \n",
       "0     1     2     1     1    2    1    1    1    5  \n",
       "\n",
       "[1 rows x 44 columns]"
      ]
     },
     "execution_count": 5,
     "metadata": {},
     "output_type": "execute_result"
    }
   ],
   "source": [
    "df_checkin_info_3 = json_normalize(df_checkin['checkin_info'][3])\n",
    "df_checkin_info_3"
   ]
  },
  {
   "cell_type": "code",
   "execution_count": 6,
   "metadata": {
    "collapsed": false
   },
   "outputs": [
    {
     "data": {
      "text/plain": [
       "0    2\n",
       "Name: 17-3, dtype: int64"
      ]
     },
     "execution_count": 6,
     "metadata": {},
     "output_type": "execute_result"
    }
   ],
   "source": [
    "df_checkin_info_3['17-3']"
   ]
  },
  {
   "cell_type": "markdown",
   "metadata": {},
   "source": [
    "#### For some super big json file, we can also use the following way to read json object line by line from file. See http://pandas.pydata.org/pandas-docs/version/0.15.2/generated/pandas.io.parsers.read_table.html#pandas.io.parsers.read_table"
   ]
  },
  {
   "cell_type": "code",
   "execution_count": 7,
   "metadata": {
    "collapsed": false
   },
   "outputs": [
    {
     "name": "stdout",
     "output_type": "stream",
     "text": [
      "0\n",
      "0\n",
      "1\n"
     ]
    }
   ],
   "source": [
    "import sys\n",
    "pd.set_option('display.max_colwidth', sys.maxsize)\n",
    "\n",
    "# Return TextFileReader object for iteration\n",
    "reader = pd.read_table('../../dataset/academic/yelp_academic_dataset_review.json', header=None, chunksize=1)\n",
    "\n",
    "index = 0\n",
    "for chunk in reader:\n",
    "    #print(pd.read_json(chunk[0][index], typ='series')['text'])\n",
    "    print(pd.read_json(chunk[0][index], typ='series')['votes']['useful'])\n",
    "    index += 1\n",
    "    if (index > 2):\n",
    "        break"
   ]
  }
 ],
 "metadata": {
  "kernelspec": {
   "display_name": "Python 3",
   "language": "python",
   "name": "python3"
  },
  "language_info": {
   "codemirror_mode": {
    "name": "ipython",
    "version": 3
   },
   "file_extension": ".py",
   "mimetype": "text/x-python",
   "name": "python",
   "nbconvert_exporter": "python",
   "pygments_lexer": "ipython3",
   "version": "3.5.2"
  }
 },
 "nbformat": 4,
 "nbformat_minor": 0
}
