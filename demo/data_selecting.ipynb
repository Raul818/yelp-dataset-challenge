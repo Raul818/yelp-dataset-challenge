{
 "cells": [
  {
   "cell_type": "code",
   "execution_count": 1,
   "metadata": {
    "collapsed": true
   },
   "outputs": [],
   "source": [
    "from pandas.io.json import json_normalize\n",
    "import pandas as pd"
   ]
  },
  {
   "cell_type": "code",
   "execution_count": 2,
   "metadata": {
    "collapsed": false
   },
   "outputs": [
    {
     "data": {
      "text/plain": [
       "'0.19.0'"
      ]
     },
     "execution_count": 2,
     "metadata": {},
     "output_type": "execute_result"
    }
   ],
   "source": [
    "pd.__version__"
   ]
  },
  {
   "cell_type": "code",
   "execution_count": 3,
   "metadata": {
    "collapsed": false
   },
   "outputs": [],
   "source": [
    "df_checkin = pd.read_json('../../dataset/academic/yelp_academic_dataset_checkin.json', lines=True)"
   ]
  },
  {
   "cell_type": "code",
   "execution_count": 4,
   "metadata": {
    "collapsed": false
   },
   "outputs": [
    {
     "data": {
      "text/html": [
       "<div>\n",
       "<table border=\"1\" class=\"dataframe\">\n",
       "  <thead>\n",
       "    <tr style=\"text-align: right;\">\n",
       "      <th></th>\n",
       "      <th>business_id</th>\n",
       "      <th>checkin_info</th>\n",
       "      <th>type</th>\n",
       "    </tr>\n",
       "  </thead>\n",
       "  <tbody>\n",
       "    <tr>\n",
       "      <th>0</th>\n",
       "      <td>cE27W9VPgO88Qxe4ol6y_g</td>\n",
       "      <td>{'9-5': 1, '7-5': 1, '14-6': 1, '18-4': 1, '17...</td>\n",
       "      <td>checkin</td>\n",
       "    </tr>\n",
       "    <tr>\n",
       "      <th>1</th>\n",
       "      <td>mVHrayjG3uZ_RLHkLj-AMg</td>\n",
       "      <td>{'11-5': 1, '6-2': 1, '10-5': 1, '15-4': 2, '1...</td>\n",
       "      <td>checkin</td>\n",
       "    </tr>\n",
       "    <tr>\n",
       "      <th>2</th>\n",
       "      <td>mYSpR_SLPgUVymYOvTQd_Q</td>\n",
       "      <td>{'17-3': 1, '13-5': 1, '11-4': 1, '9-3': 1, '1...</td>\n",
       "      <td>checkin</td>\n",
       "    </tr>\n",
       "    <tr>\n",
       "      <th>3</th>\n",
       "      <td>KayYbHCt-RkbGcPdGOThNg</td>\n",
       "      <td>{'11-1': 2, '21-2': 1, '14-3': 2, '17-3': 2, '...</td>\n",
       "      <td>checkin</td>\n",
       "    </tr>\n",
       "    <tr>\n",
       "      <th>4</th>\n",
       "      <td>b12U9TFESStdy7CsTtcOeg</td>\n",
       "      <td>{'5-1': 2, '8-2': 1, '13-2': 1, '8-6': 1, '5-5...</td>\n",
       "      <td>checkin</td>\n",
       "    </tr>\n",
       "  </tbody>\n",
       "</table>\n",
       "</div>"
      ],
      "text/plain": [
       "              business_id                                       checkin_info  \\\n",
       "0  cE27W9VPgO88Qxe4ol6y_g  {'9-5': 1, '7-5': 1, '14-6': 1, '18-4': 1, '17...   \n",
       "1  mVHrayjG3uZ_RLHkLj-AMg  {'11-5': 1, '6-2': 1, '10-5': 1, '15-4': 2, '1...   \n",
       "2  mYSpR_SLPgUVymYOvTQd_Q  {'17-3': 1, '13-5': 1, '11-4': 1, '9-3': 1, '1...   \n",
       "3  KayYbHCt-RkbGcPdGOThNg  {'11-1': 2, '21-2': 1, '14-3': 2, '17-3': 2, '...   \n",
       "4  b12U9TFESStdy7CsTtcOeg  {'5-1': 2, '8-2': 1, '13-2': 1, '8-6': 1, '5-5...   \n",
       "\n",
       "      type  \n",
       "0  checkin  \n",
       "1  checkin  \n",
       "2  checkin  \n",
       "3  checkin  \n",
       "4  checkin  "
      ]
     },
     "execution_count": 4,
     "metadata": {},
     "output_type": "execute_result"
    }
   ],
   "source": [
    "df_checkin.head()"
   ]
  },
  {
   "cell_type": "code",
   "execution_count": 5,
   "metadata": {
    "collapsed": false
   },
   "outputs": [
    {
     "data": {
      "text/html": [
       "<div>\n",
       "<table border=\"1\" class=\"dataframe\">\n",
       "  <thead>\n",
       "    <tr style=\"text-align: right;\">\n",
       "      <th></th>\n",
       "      <th>10-3</th>\n",
       "      <th>10-4</th>\n",
       "      <th>10-5</th>\n",
       "      <th>11-0</th>\n",
       "      <th>11-1</th>\n",
       "      <th>11-2</th>\n",
       "      <th>12-2</th>\n",
       "      <th>12-4</th>\n",
       "      <th>13-0</th>\n",
       "      <th>13-2</th>\n",
       "      <th>...</th>\n",
       "      <th>21-2</th>\n",
       "      <th>21-4</th>\n",
       "      <th>21-5</th>\n",
       "      <th>22-5</th>\n",
       "      <th>23-1</th>\n",
       "      <th>8-1</th>\n",
       "      <th>8-3</th>\n",
       "      <th>8-4</th>\n",
       "      <th>9-1</th>\n",
       "      <th>9-4</th>\n",
       "    </tr>\n",
       "  </thead>\n",
       "  <tbody>\n",
       "    <tr>\n",
       "      <th>0</th>\n",
       "      <td>1</td>\n",
       "      <td>2</td>\n",
       "      <td>1</td>\n",
       "      <td>2</td>\n",
       "      <td>2</td>\n",
       "      <td>2</td>\n",
       "      <td>2</td>\n",
       "      <td>3</td>\n",
       "      <td>1</td>\n",
       "      <td>2</td>\n",
       "      <td>...</td>\n",
       "      <td>1</td>\n",
       "      <td>1</td>\n",
       "      <td>2</td>\n",
       "      <td>1</td>\n",
       "      <td>1</td>\n",
       "      <td>2</td>\n",
       "      <td>1</td>\n",
       "      <td>1</td>\n",
       "      <td>1</td>\n",
       "      <td>5</td>\n",
       "    </tr>\n",
       "  </tbody>\n",
       "</table>\n",
       "<p>1 rows × 44 columns</p>\n",
       "</div>"
      ],
      "text/plain": [
       "   10-3  10-4  10-5  11-0  11-1  11-2  12-2  12-4  13-0  13-2 ...   21-2  \\\n",
       "0     1     2     1     2     2     2     2     3     1     2 ...      1   \n",
       "\n",
       "   21-4  21-5  22-5  23-1  8-1  8-3  8-4  9-1  9-4  \n",
       "0     1     2     1     1    2    1    1    1    5  \n",
       "\n",
       "[1 rows x 44 columns]"
      ]
     },
     "execution_count": 5,
     "metadata": {},
     "output_type": "execute_result"
    }
   ],
   "source": [
    "df_checkin_info_3 = json_normalize(df_checkin['checkin_info'][3])\n",
    "df_checkin_info_3"
   ]
  },
  {
   "cell_type": "code",
   "execution_count": 6,
   "metadata": {
    "collapsed": false
   },
   "outputs": [
    {
     "data": {
      "text/plain": [
       "0    2\n",
       "Name: 17-3, dtype: int64"
      ]
     },
     "execution_count": 6,
     "metadata": {},
     "output_type": "execute_result"
    }
   ],
   "source": [
    "df_checkin_info_3['17-3']"
   ]
  },
  {
   "cell_type": "markdown",
   "metadata": {},
   "source": [
    "## We start basic analysis from here."
   ]
  },
  {
   "cell_type": "code",
   "execution_count": 7,
   "metadata": {
    "collapsed": false
   },
   "outputs": [
    {
     "name": "stdout",
     "output_type": "stream",
     "text": [
      "\n",
      "Total count of each different stars:\n",
      "{1: 331786, 2: 224334, 3: 321700, 4: 674636, 5: 1132610}\n",
      "\n",
      "Sort business by number of reviews:\n",
      "[('4bEjOyTaDG24SY5TxsaUNQ', 5558), ('sIyHTizqAiGu12XMLX3N3g', 4531), ('zt1TpTuJ6y9n551sw9TaEg', 4333), ('aGbjLWzcrnEx2ZmMCFm3EA', 4149), ('2e2e7WgqU1BnpxmQL5jbfw', 4103), ('iUPJmJvHy9fVfRxsuwwdLQ', 3584), ('Xhg93cMdemu5pAMkDoEdtQ', 3330), ('QbmcCE_cLq4WO8ZMKImaLw', 3202), ('YNQgak-ZLtYJQxlDwN-qIg', 3107), ('lliksv-tglfUz1T3B3vgvA', 2911)]\n",
      "\n",
      "Sort users by number of reviews on the same business:\n",
      "[('T1jYZFB_7cqdhuvzpxfFWQ_q200TCFOheJfS_MvvwMfJw', 31), ('6LoNRotewF81fxka6L_8Jw_q200TCFOheJfS_MvvwMfJw', 19), ('yumgsa9m02CACzq0dHZP7Q_q200TCFOheJfS_MvvwMfJw', 18), ('8aPTQeDYOMNEu907WfflCQ__Q4Ks28-Jks-TjFT-YXw_A', 18), ('DzL4cUt5AVYRzzT7DHOgxg_GfJBijGnGRIbXRkNMzS6Eg', 16), ('6O9iAmAv7vUl-Eeqb9bmpw_C2RiYrCAdvj7Sh0p6I8G7Q', 16), ('iaEqryy7OwAOAQkLWDBquQ_kG8jkVFgOAOq6Ht6RvAjEQ', 15), ('RZTcKugP9dGWFkO4RpbVEQ_FbdB9KXyuvT8rC_zmqRSuQ', 15), ('zsAlOIoPCdVZO2kVAb5YJw_pk6ci-n7s5nZTnkug10-Pw', 14), ('bkJ_xtA5M6-w_6B5KB-wDQ_GfJBijGnGRIbXRkNMzS6Eg', 14)]\n",
      "\n",
      "Sort business by number of votes from reviews:\n",
      "[('sIyHTizqAiGu12XMLX3N3g', 12676), ('zt1TpTuJ6y9n551sw9TaEg', 10572), ('Es300Ys1XXPYg8aI7BKVYQ', 10118), ('AtjsjFzalWqJ7S9DUFQ4bw', 9973), ('2e2e7WgqU1BnpxmQL5jbfw', 8801), ('4bEjOyTaDG24SY5TxsaUNQ', 8070), ('eq6lQI039SBLC6sHm3idGA', 7973), ('YNQgak-ZLtYJQxlDwN-qIg', 7882), ('aGbjLWzcrnEx2ZmMCFm3EA', 7311), ('jf67Z1pnwElRSXllpQHiJg', 6746)]\n"
     ]
    }
   ],
   "source": [
    "import sys\n",
    "import operator\n",
    "\n",
    "pd.set_option('display.max_colwidth', sys.maxsize)\n",
    "\n",
    "chunk_size = 100000\n",
    "reader = pd.read_table('../../dataset/academic/yelp_academic_dataset_review.json', header=None, chunksize=chunk_size)\n",
    "\n",
    "count_of_stars = {}\n",
    "num_reviews_of_business = {}\n",
    "active_user_of_business = {}\n",
    "votes_of_business = {}\n",
    "\n",
    "chunk_index = 0\n",
    "for chunks in reader:\n",
    "    \n",
    "    start_index = chunk_size * chunk_index\n",
    "    for index in range(start_index, start_index + len(chunks)):\n",
    "        data_json = pd.read_json(chunks[0][index], typ='series')\n",
    "\n",
    "        stars = data_json['stars']\n",
    "        if (stars not in count_of_stars):\n",
    "            count_of_stars[stars] = 1\n",
    "        else: \n",
    "            count_of_stars[stars] = count_of_stars[stars] + 1\n",
    "\n",
    "        business_id = data_json['business_id']\n",
    "        if (business_id not in num_reviews_of_business):\n",
    "            num_reviews_of_business[business_id] = 1\n",
    "        else: \n",
    "            num_reviews_of_business[business_id] = num_reviews_of_business[business_id] + 1\n",
    "\n",
    "        user_id = data_json['user_id']\n",
    "        user_business_key = business_id + '_' + user_id\n",
    "        if (user_business_key not in active_user_of_business):\n",
    "            active_user_of_business[user_business_key] = 1\n",
    "        else: \n",
    "            active_user_of_business[user_business_key] = active_user_of_business[user_business_key] + 1\n",
    "            \n",
    "        votes_json = data_json['votes']\n",
    "        num_votes = votes_json['funny'] + votes_json['useful'] + votes_json['cool']\n",
    "        if (business_id not in votes_of_business):\n",
    "            votes_of_business[business_id] = num_votes\n",
    "        else: \n",
    "            votes_of_business[business_id] = votes_of_business[business_id] + num_votes\n",
    "        \n",
    "    \n",
    "    chunk_index += 1\n",
    "\n",
    "#     if (chunk_index > 2):\n",
    "#         break\n",
    "\n",
    "print(\"\\nTotal count of each different stars:\")\n",
    "print(count_of_stars)\n",
    "\n",
    "print(\"\\nSort business by number of reviews:\")\n",
    "sorted_num_reviews_of_business = sorted(num_reviews_of_business.items(), key=operator.itemgetter(1), reverse=True)\n",
    "print(sorted_num_reviews_of_business[:10])\n",
    "\n",
    "print(\"\\nSort users by number of reviews on the same business:\")\n",
    "sorted_active_user_of_business = sorted(active_user_of_business.items(), key=operator.itemgetter(1), reverse=True)\n",
    "print(sorted_active_user_of_business[:10])\n",
    "\n",
    "print(\"\\nSort business by number of votes from reviews:\")\n",
    "sorted_votes_of_business = sorted(votes_of_business.items(), key=operator.itemgetter(1), reverse=True)\n",
    "print(sorted_votes_of_business[:10])"
   ]
  }
 ],
 "metadata": {
  "kernelspec": {
   "display_name": "Python 3",
   "language": "python",
   "name": "python3"
  },
  "language_info": {
   "codemirror_mode": {
    "name": "ipython",
    "version": 3
   },
   "file_extension": ".py",
   "mimetype": "text/x-python",
   "name": "python",
   "nbconvert_exporter": "python",
   "pygments_lexer": "ipython3",
   "version": "3.5.2"
  }
 },
 "nbformat": 4,
 "nbformat_minor": 0
}
