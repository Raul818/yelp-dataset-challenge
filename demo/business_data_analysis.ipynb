{
 "cells": [
  {
   "cell_type": "code",
   "execution_count": 1,
   "metadata": {
    "collapsed": true
   },
   "outputs": [],
   "source": [
    "import pandas as pd"
   ]
  },
  {
   "cell_type": "code",
   "execution_count": 2,
   "metadata": {
    "collapsed": false
   },
   "outputs": [
    {
     "data": {
      "text/plain": [
       "'0.19.0'"
      ]
     },
     "execution_count": 2,
     "metadata": {},
     "output_type": "execute_result"
    }
   ],
   "source": [
    "pd.__version__"
   ]
  },
  {
   "cell_type": "code",
   "execution_count": 3,
   "metadata": {
    "collapsed": false
   },
   "outputs": [],
   "source": [
    "df_business = pd.read_json('../../dataset/academic/yelp_academic_dataset_business.json', lines=True)"
   ]
  },
  {
   "cell_type": "code",
   "execution_count": 4,
   "metadata": {
    "collapsed": false
   },
   "outputs": [
    {
     "data": {
      "text/plain": [
       "85901"
      ]
     },
     "execution_count": 4,
     "metadata": {},
     "output_type": "execute_result"
    }
   ],
   "source": [
    "len(df_business)"
   ]
  },
  {
   "cell_type": "code",
   "execution_count": 5,
   "metadata": {
    "collapsed": false
   },
   "outputs": [],
   "source": [
    "df_business_restaurants = df_business[df_business['categories'].apply(lambda x: 'Restaurants' in x)].reset_index(drop=True)\n",
    "#df_business_restaurants"
   ]
  },
  {
   "cell_type": "code",
   "execution_count": 6,
   "metadata": {
    "collapsed": false
   },
   "outputs": [],
   "source": [
    "df_business_restaurants.drop(['latitude','longitude','neighborhoods','type','full_address'], axis=1, inplace=True)"
   ]
  },
  {
   "cell_type": "code",
   "execution_count": 7,
   "metadata": {
    "collapsed": false
   },
   "outputs": [
    {
     "data": {
      "text/plain": [
       "20125"
      ]
     },
     "execution_count": 7,
     "metadata": {},
     "output_type": "execute_result"
    }
   ],
   "source": [
    "df_business_restaurants_open = df_business_restaurants[df_business_restaurants['open']==True].reset_index(drop=True)\n",
    "df_business_restaurants_open\n",
    "len(df_business_restaurants_open)"
   ]
  },
  {
   "cell_type": "code",
   "execution_count": 8,
   "metadata": {
    "collapsed": false,
    "scrolled": true
   },
   "outputs": [
    {
     "data": {
      "text/plain": [
       "Index(['attributes', 'business_id', 'categories', 'city', 'hours', 'name',\n",
       "       'open', 'review_count', 'stars', 'state'],\n",
       "      dtype='object')"
      ]
     },
     "execution_count": 8,
     "metadata": {},
     "output_type": "execute_result"
    }
   ],
   "source": [
    "df_business_restaurants_open.columns"
   ]
  },
  {
   "cell_type": "code",
   "execution_count": 9,
   "metadata": {
    "collapsed": false
   },
   "outputs": [
    {
     "data": {
      "text/plain": [
       "{'Accepts Credit Cards',\n",
       " 'Accepts Insurance',\n",
       " 'Ages Allowed',\n",
       " 'Alcohol',\n",
       " 'Ambience',\n",
       " 'Attire',\n",
       " 'BYOB',\n",
       " 'BYOB/Corkage',\n",
       " 'By Appointment Only',\n",
       " 'Caters',\n",
       " 'Coat Check',\n",
       " 'Corkage',\n",
       " 'Delivery',\n",
       " 'Dietary Restrictions',\n",
       " 'Dogs Allowed',\n",
       " 'Drive-Thru',\n",
       " 'Good For',\n",
       " 'Good For Dancing',\n",
       " 'Good For Groups',\n",
       " 'Good for Kids',\n",
       " 'Happy Hour',\n",
       " 'Has TV',\n",
       " 'Music',\n",
       " 'Noise Level',\n",
       " 'Open 24 Hours',\n",
       " 'Order at Counter',\n",
       " 'Outdoor Seating',\n",
       " 'Parking',\n",
       " 'Price Range',\n",
       " 'Smoking',\n",
       " 'Take-out',\n",
       " 'Takes Reservations',\n",
       " 'Waiter Service',\n",
       " 'Wheelchair Accessible',\n",
       " 'Wi-Fi'}"
      ]
     },
     "execution_count": 9,
     "metadata": {},
     "output_type": "execute_result"
    }
   ],
   "source": [
    "uniqueattributes = []\n",
    "allattributes = df_business_restaurants_open['attributes']\n",
    "for attributes in allattributes.iteritems():\n",
    "    uniqueattributes.extend(attributes[1])\n",
    "uniqueattributes_set = set(uniqueattributes)\n",
    "uniqueattributes_set"
   ]
  },
  {
   "cell_type": "code",
   "execution_count": 10,
   "metadata": {
    "collapsed": true
   },
   "outputs": [],
   "source": [
    "df_business_restaurants_open['stars_round'] = df_business_restaurants_open['stars'].apply(round)"
   ]
  },
  {
   "cell_type": "code",
   "execution_count": 11,
   "metadata": {
    "collapsed": false
   },
   "outputs": [
    {
     "data": {
      "text/html": [
       "<div>\n",
       "<table border=\"1\" class=\"dataframe\">\n",
       "  <thead>\n",
       "    <tr style=\"text-align: right;\">\n",
       "      <th></th>\n",
       "      <th>attributes</th>\n",
       "      <th>business_id</th>\n",
       "      <th>categories</th>\n",
       "      <th>city</th>\n",
       "      <th>hours</th>\n",
       "      <th>name</th>\n",
       "      <th>open</th>\n",
       "      <th>review_count</th>\n",
       "      <th>stars</th>\n",
       "      <th>state</th>\n",
       "      <th>stars_round</th>\n",
       "    </tr>\n",
       "  </thead>\n",
       "  <tbody>\n",
       "    <tr>\n",
       "      <th>0</th>\n",
       "      <td>{'Alcohol': 'none', 'Good for Kids': True, 'At...</td>\n",
       "      <td>5UmKMjUEUNdYWqANhGckJw</td>\n",
       "      <td>[Fast Food, Restaurants]</td>\n",
       "      <td>Dravosburg</td>\n",
       "      <td>{'Thursday': {'open': '11:00', 'close': '21:00...</td>\n",
       "      <td>Mr Hoagie</td>\n",
       "      <td>True</td>\n",
       "      <td>7</td>\n",
       "      <td>3.5</td>\n",
       "      <td>PA</td>\n",
       "      <td>4</td>\n",
       "    </tr>\n",
       "    <tr>\n",
       "      <th>1</th>\n",
       "      <td>{'Alcohol': 'full_bar', 'Smoking': 'no', 'Atti...</td>\n",
       "      <td>mVHrayjG3uZ_RLHkLj-AMg</td>\n",
       "      <td>[Bars, American (New), Nightlife, Lounges, Res...</td>\n",
       "      <td>Braddock</td>\n",
       "      <td>{'Wednesday': {'open': '10:00', 'close': '19:0...</td>\n",
       "      <td>Emil's Lounge</td>\n",
       "      <td>True</td>\n",
       "      <td>26</td>\n",
       "      <td>4.5</td>\n",
       "      <td>PA</td>\n",
       "      <td>4</td>\n",
       "    </tr>\n",
       "    <tr>\n",
       "      <th>2</th>\n",
       "      <td>{'Alcohol': 'full_bar', 'Smoking': 'outdoor', ...</td>\n",
       "      <td>KayYbHCt-RkbGcPdGOThNg</td>\n",
       "      <td>[Bars, American (Traditional), Nightlife, Rest...</td>\n",
       "      <td>Carnegie</td>\n",
       "      <td>{'Wednesday': {'open': '11:00', 'close': '02:0...</td>\n",
       "      <td>Alexion's Bar &amp; Grill</td>\n",
       "      <td>True</td>\n",
       "      <td>23</td>\n",
       "      <td>4.0</td>\n",
       "      <td>PA</td>\n",
       "      <td>4</td>\n",
       "    </tr>\n",
       "    <tr>\n",
       "      <th>3</th>\n",
       "      <td>{'Wheelchair Accessible': True, 'Alcohol': 'no...</td>\n",
       "      <td>wJr6kSA5dchdgOdwH6dZ2w</td>\n",
       "      <td>[Burgers, Breakfast &amp; Brunch, American (Tradit...</td>\n",
       "      <td>Carnegie</td>\n",
       "      <td>{'Wednesday': {'open': '08:00', 'close': '02:0...</td>\n",
       "      <td>Kings Family Restaurant</td>\n",
       "      <td>True</td>\n",
       "      <td>10</td>\n",
       "      <td>3.5</td>\n",
       "      <td>PA</td>\n",
       "      <td>4</td>\n",
       "    </tr>\n",
       "    <tr>\n",
       "      <th>4</th>\n",
       "      <td>{'Alcohol': 'full_bar', 'Good for Kids': True,...</td>\n",
       "      <td>fNGIbpazjTRdXgwRY_NIXA</td>\n",
       "      <td>[Bars, American (Traditional), Nightlife, Loun...</td>\n",
       "      <td>Carnegie</td>\n",
       "      <td>{'Wednesday': {'open': '11:00', 'close': '23:0...</td>\n",
       "      <td>Rocky's Lounge</td>\n",
       "      <td>True</td>\n",
       "      <td>10</td>\n",
       "      <td>4.0</td>\n",
       "      <td>PA</td>\n",
       "      <td>4</td>\n",
       "    </tr>\n",
       "  </tbody>\n",
       "</table>\n",
       "</div>"
      ],
      "text/plain": [
       "                                          attributes             business_id  \\\n",
       "0  {'Alcohol': 'none', 'Good for Kids': True, 'At...  5UmKMjUEUNdYWqANhGckJw   \n",
       "1  {'Alcohol': 'full_bar', 'Smoking': 'no', 'Atti...  mVHrayjG3uZ_RLHkLj-AMg   \n",
       "2  {'Alcohol': 'full_bar', 'Smoking': 'outdoor', ...  KayYbHCt-RkbGcPdGOThNg   \n",
       "3  {'Wheelchair Accessible': True, 'Alcohol': 'no...  wJr6kSA5dchdgOdwH6dZ2w   \n",
       "4  {'Alcohol': 'full_bar', 'Good for Kids': True,...  fNGIbpazjTRdXgwRY_NIXA   \n",
       "\n",
       "                                          categories        city  \\\n",
       "0                           [Fast Food, Restaurants]  Dravosburg   \n",
       "1  [Bars, American (New), Nightlife, Lounges, Res...    Braddock   \n",
       "2  [Bars, American (Traditional), Nightlife, Rest...    Carnegie   \n",
       "3  [Burgers, Breakfast & Brunch, American (Tradit...    Carnegie   \n",
       "4  [Bars, American (Traditional), Nightlife, Loun...    Carnegie   \n",
       "\n",
       "                                               hours                     name  \\\n",
       "0  {'Thursday': {'open': '11:00', 'close': '21:00...                Mr Hoagie   \n",
       "1  {'Wednesday': {'open': '10:00', 'close': '19:0...            Emil's Lounge   \n",
       "2  {'Wednesday': {'open': '11:00', 'close': '02:0...    Alexion's Bar & Grill   \n",
       "3  {'Wednesday': {'open': '08:00', 'close': '02:0...  Kings Family Restaurant   \n",
       "4  {'Wednesday': {'open': '11:00', 'close': '23:0...           Rocky's Lounge   \n",
       "\n",
       "   open  review_count  stars state  stars_round  \n",
       "0  True             7    3.5    PA            4  \n",
       "1  True            26    4.5    PA            4  \n",
       "2  True            23    4.0    PA            4  \n",
       "3  True            10    3.5    PA            4  \n",
       "4  True            10    4.0    PA            4  "
      ]
     },
     "execution_count": 11,
     "metadata": {},
     "output_type": "execute_result"
    }
   ],
   "source": [
    "df_business_restaurants_open.head()"
   ]
  },
  {
   "cell_type": "markdown",
   "metadata": {},
   "source": [
    "# Starting analysis for Accepts Credit Cards"
   ]
  },
  {
   "cell_type": "code",
   "execution_count": 33,
   "metadata": {
    "collapsed": false
   },
   "outputs": [
    {
     "data": {
      "text/plain": [
       "array([True, False, nan], dtype=object)"
      ]
     },
     "execution_count": 33,
     "metadata": {},
     "output_type": "execute_result"
    }
   ],
   "source": [
    "df_restaurants_accepts_creditcards = pd.concat([df_business_restaurants_open[['business_id','stars_round']], \n",
    "           df_business_restaurants_open['attributes'].apply(pd.Series)], axis=1)[['business_id','stars_round','Accepts Credit Cards']]\n",
    "\n",
    "df_restaurants_accepts_creditcards['Accepts Credit Cards'].unique()\n",
    "\n",
    "#accept_credit_values = [True,False]"
   ]
  },
  {
   "cell_type": "code",
   "execution_count": 13,
   "metadata": {
    "collapsed": false
   },
   "outputs": [],
   "source": [
    "#dictionary for storing final star against creditcard frequency\n",
    "stars_creditcard_dict = {}\n",
    "# group business by stars\n",
    "group_by_stars = df_restaurants_accepts_creditcards.groupby('stars_round')\n",
    "# loop to find info in ech star group\n",
    "for group in group_by_stars.groups:\n",
    "    # no. of businesses in this star group\n",
    "    star_bus_count = group_by_stars.get_group(group)['business_id'].count()\n",
    "    dataforeachstar = group_by_stars.get_group(group)\n",
    "    # dictionary to store creditcard value and frequency\n",
    "    creditcard_dict = {}\n",
    "    # This is to find the nmber of 'Unknown' credit card category\n",
    "    total_bus_credit_info = 0\n",
    "    for accept_credit_value in accept_credit_values:\n",
    "        bus_count = len(dataforeachstar[dataforeachstar['Accepts Credit Cards'].apply(lambda x: accept_credit_value == x)].\n",
    "                        reset_index(drop=True))\n",
    "        creditcard_dict[accept_credit_value] = (bus_count + 1)/(star_bus_count + 3)\n",
    "        total_bus_credit_info += bus_count\n",
    "    creditcard_dict['Unknown'] = (star_bus_count - total_bus_credit_info + 1)/(star_bus_count + 3)\n",
    "    stars_creditcard_dict[group] = creditcard_dict\n",
    "#Result\n",
    "stars_creditcard_df = pd.DataFrame.from_dict(stars_creditcard_dict)"
   ]
  },
  {
   "cell_type": "code",
   "execution_count": 14,
   "metadata": {
    "collapsed": false
   },
   "outputs": [
    {
     "data": {
      "text/html": [
       "<div>\n",
       "<table border=\"1\" class=\"dataframe\">\n",
       "  <thead>\n",
       "    <tr style=\"text-align: right;\">\n",
       "      <th></th>\n",
       "      <th>1</th>\n",
       "      <th>2</th>\n",
       "      <th>3</th>\n",
       "      <th>4</th>\n",
       "      <th>5</th>\n",
       "    </tr>\n",
       "  </thead>\n",
       "  <tbody>\n",
       "    <tr>\n",
       "      <th>False</th>\n",
       "      <td>0.011111</td>\n",
       "      <td>0.006915</td>\n",
       "      <td>0.010749</td>\n",
       "      <td>0.023047</td>\n",
       "      <td>0.061275</td>\n",
       "    </tr>\n",
       "    <tr>\n",
       "      <th>True</th>\n",
       "      <td>0.677778</td>\n",
       "      <td>0.825316</td>\n",
       "      <td>0.814189</td>\n",
       "      <td>0.765084</td>\n",
       "      <td>0.571078</td>\n",
       "    </tr>\n",
       "    <tr>\n",
       "      <th>Unknown</th>\n",
       "      <td>0.311111</td>\n",
       "      <td>0.167769</td>\n",
       "      <td>0.175061</td>\n",
       "      <td>0.211868</td>\n",
       "      <td>0.367647</td>\n",
       "    </tr>\n",
       "  </tbody>\n",
       "</table>\n",
       "</div>"
      ],
      "text/plain": [
       "                1         2         3         4         5\n",
       "False    0.011111  0.006915  0.010749  0.023047  0.061275\n",
       "True     0.677778  0.825316  0.814189  0.765084  0.571078\n",
       "Unknown  0.311111  0.167769  0.175061  0.211868  0.367647"
      ]
     },
     "execution_count": 14,
     "metadata": {},
     "output_type": "execute_result"
    }
   ],
   "source": [
    "stars_creditcard_df"
   ]
  },
  {
   "cell_type": "markdown",
   "metadata": {},
   "source": [
    "# Starting analysis for Alcohol"
   ]
  },
  {
   "cell_type": "code",
   "execution_count": 15,
   "metadata": {
    "collapsed": false
   },
   "outputs": [],
   "source": [
    "df_restaurants_alcohol = pd.concat([df_business_restaurants_open[['business_id','stars_round']], \n",
    "           df_business_restaurants_open['attributes'].apply(pd.Series)], axis=1)[['business_id','stars_round','Alcohol']]\n",
    "alcohol_values = ['none', 'full_bar','beer_and_wine']"
   ]
  },
  {
   "cell_type": "code",
   "execution_count": 16,
   "metadata": {
    "collapsed": true
   },
   "outputs": [],
   "source": [
    "#dictionary for storing final star against alcohol frequency\n",
    "stars_alcohol_dict = {}\n",
    "# group business by stars\n",
    "group_by_stars = df_restaurants_alcohol.groupby('stars_round')\n",
    "# loop to find info in ech star group\n",
    "for group in group_by_stars.groups:\n",
    "    # no. of businesses in this star group\n",
    "    star_bus_count = group_by_stars.get_group(group)['business_id'].count()\n",
    "    dataforeachstar = group_by_stars.get_group(group)\n",
    "    # dictionary to store alcohol value and frequency\n",
    "    alcohol_dict = {}\n",
    "    # This is to find the nmber of 'Unknown' alcohol category\n",
    "    total_bus_alcohol_info = 0\n",
    "    for alcohol_value in alcohol_values:\n",
    "        bus_count = len(dataforeachstar[dataforeachstar['Alcohol'].apply(lambda x: alcohol_value == x)].\n",
    "                        reset_index(drop=True))\n",
    "        alcohol_dict[alcohol_value] = (bus_count + 1)/(star_bus_count + len(alcohol_values)+1)\n",
    "        total_bus_alcohol_info += bus_count\n",
    "    alcohol_dict['Unknown'] = (star_bus_count - total_bus_alcohol_info + 1)/(star_bus_count + len(alcohol_values)+1)\n",
    "    stars_alcohol_dict[group] = alcohol_dict\n",
    "#Result\n",
    "stars_alcohol_df = pd.DataFrame.from_dict(stars_alcohol_dict)"
   ]
  },
  {
   "cell_type": "code",
   "execution_count": 17,
   "metadata": {
    "collapsed": false
   },
   "outputs": [
    {
     "data": {
      "text/html": [
       "<div>\n",
       "<table border=\"1\" class=\"dataframe\">\n",
       "  <thead>\n",
       "    <tr style=\"text-align: right;\">\n",
       "      <th></th>\n",
       "      <th>1</th>\n",
       "      <th>2</th>\n",
       "      <th>3</th>\n",
       "      <th>4</th>\n",
       "      <th>5</th>\n",
       "    </tr>\n",
       "  </thead>\n",
       "  <tbody>\n",
       "    <tr>\n",
       "      <th>Unknown</th>\n",
       "      <td>0.637363</td>\n",
       "      <td>0.272919</td>\n",
       "      <td>0.165797</td>\n",
       "      <td>0.133221</td>\n",
       "      <td>0.354523</td>\n",
       "    </tr>\n",
       "    <tr>\n",
       "      <th>beer_and_wine</th>\n",
       "      <td>0.021978</td>\n",
       "      <td>0.055005</td>\n",
       "      <td>0.115137</td>\n",
       "      <td>0.152821</td>\n",
       "      <td>0.102689</td>\n",
       "    </tr>\n",
       "    <tr>\n",
       "      <th>full_bar</th>\n",
       "      <td>0.021978</td>\n",
       "      <td>0.153592</td>\n",
       "      <td>0.311636</td>\n",
       "      <td>0.332746</td>\n",
       "      <td>0.112469</td>\n",
       "    </tr>\n",
       "    <tr>\n",
       "      <th>none</th>\n",
       "      <td>0.318681</td>\n",
       "      <td>0.518485</td>\n",
       "      <td>0.407430</td>\n",
       "      <td>0.381211</td>\n",
       "      <td>0.430318</td>\n",
       "    </tr>\n",
       "  </tbody>\n",
       "</table>\n",
       "</div>"
      ],
      "text/plain": [
       "                      1         2         3         4         5\n",
       "Unknown        0.637363  0.272919  0.165797  0.133221  0.354523\n",
       "beer_and_wine  0.021978  0.055005  0.115137  0.152821  0.102689\n",
       "full_bar       0.021978  0.153592  0.311636  0.332746  0.112469\n",
       "none           0.318681  0.518485  0.407430  0.381211  0.430318"
      ]
     },
     "execution_count": 17,
     "metadata": {},
     "output_type": "execute_result"
    }
   ],
   "source": [
    "stars_alcohol_df"
   ]
  },
  {
   "cell_type": "markdown",
   "metadata": {},
   "source": [
    "# Starting analysis for  caters"
   ]
  },
  {
   "cell_type": "code",
   "execution_count": 18,
   "metadata": {
    "collapsed": false
   },
   "outputs": [],
   "source": [
    "df_restaurants_caters = pd.concat([df_business_restaurants_open[['business_id','stars_round']], \n",
    "           df_business_restaurants_open['attributes'].apply(pd.Series)], axis=1)[['business_id','stars_round','Caters']]\n",
    "caters_values = [False, True]"
   ]
  },
  {
   "cell_type": "code",
   "execution_count": 19,
   "metadata": {
    "collapsed": false
   },
   "outputs": [],
   "source": [
    "#dictionary for storing final star against caters frequency\n",
    "stars_caters_dict = {}\n",
    "# group business by stars\n",
    "group_by_stars = df_restaurants_caters.groupby('stars_round')\n",
    "# loop to find info in ech star group\n",
    "for group in group_by_stars.groups:\n",
    "    # no. of businesses in this star group\n",
    "    star_bus_count = group_by_stars.get_group(group)['business_id'].count()\n",
    "    dataforeachstar = group_by_stars.get_group(group)\n",
    "    # dictionary to store caters value and frequency\n",
    "    caters_dict = {}\n",
    "    # This is to find the nmber of 'Unknown' caters category\n",
    "    total_bus_caters_info = 0\n",
    "    for caters_value in caters_values:\n",
    "        bus_count = len(dataforeachstar[dataforeachstar['Caters'].apply(lambda x: caters_value == x)].\n",
    "                        reset_index(drop=True))\n",
    "        caters_dict[caters_value] = (bus_count + 1)/(star_bus_count + len(caters_values)+1)\n",
    "        total_bus_caters_info += bus_count\n",
    "    caters_dict['Unknown'] = (star_bus_count - total_bus_caters_info + 1)/(star_bus_count + len(caters_values)+1)\n",
    "    stars_caters_dict[group] = caters_dict\n",
    "#Result\n",
    "stars_caters_df = pd.DataFrame.from_dict(stars_caters_dict)"
   ]
  },
  {
   "cell_type": "code",
   "execution_count": 20,
   "metadata": {
    "collapsed": false
   },
   "outputs": [
    {
     "data": {
      "text/html": [
       "<div>\n",
       "<table border=\"1\" class=\"dataframe\">\n",
       "  <thead>\n",
       "    <tr style=\"text-align: right;\">\n",
       "      <th></th>\n",
       "      <th>1</th>\n",
       "      <th>2</th>\n",
       "      <th>3</th>\n",
       "      <th>4</th>\n",
       "      <th>5</th>\n",
       "    </tr>\n",
       "  </thead>\n",
       "  <tbody>\n",
       "    <tr>\n",
       "      <th>False</th>\n",
       "      <td>0.255556</td>\n",
       "      <td>0.419723</td>\n",
       "      <td>0.38145</td>\n",
       "      <td>0.336371</td>\n",
       "      <td>0.178922</td>\n",
       "    </tr>\n",
       "    <tr>\n",
       "      <th>True</th>\n",
       "      <td>0.100000</td>\n",
       "      <td>0.163860</td>\n",
       "      <td>0.30129</td>\n",
       "      <td>0.393262</td>\n",
       "      <td>0.269608</td>\n",
       "    </tr>\n",
       "    <tr>\n",
       "      <th>Unknown</th>\n",
       "      <td>0.644444</td>\n",
       "      <td>0.416416</td>\n",
       "      <td>0.31726</td>\n",
       "      <td>0.270368</td>\n",
       "      <td>0.551471</td>\n",
       "    </tr>\n",
       "  </tbody>\n",
       "</table>\n",
       "</div>"
      ],
      "text/plain": [
       "                1         2        3         4         5\n",
       "False    0.255556  0.419723  0.38145  0.336371  0.178922\n",
       "True     0.100000  0.163860  0.30129  0.393262  0.269608\n",
       "Unknown  0.644444  0.416416  0.31726  0.270368  0.551471"
      ]
     },
     "execution_count": 20,
     "metadata": {},
     "output_type": "execute_result"
    }
   ],
   "source": [
    "stars_caters_df"
   ]
  },
  {
   "cell_type": "markdown",
   "metadata": {},
   "source": [
    "# Starting analysis for  Noise level"
   ]
  },
  {
   "cell_type": "code",
   "execution_count": 21,
   "metadata": {
    "collapsed": false
   },
   "outputs": [],
   "source": [
    "df_restaurants_noise_level = pd.concat([df_business_restaurants_open[['business_id','stars_round']], \n",
    "           df_business_restaurants_open['attributes'].apply(pd.Series)], axis=1)[['business_id','stars_round','Noise Level']]\n",
    "noise_level_values = ['average', 'loud','quiet', 'very_loud']"
   ]
  },
  {
   "cell_type": "code",
   "execution_count": 22,
   "metadata": {
    "collapsed": true
   },
   "outputs": [],
   "source": [
    "#dictionary for storing final star against noise_level frequency\n",
    "stars_noise_level_dict = {}\n",
    "# group business by stars\n",
    "group_by_stars = df_restaurants_noise_level.groupby('stars_round')\n",
    "# loop to find info in ech star group\n",
    "for group in group_by_stars.groups:\n",
    "    # no. of businesses in this star group\n",
    "    star_bus_count = group_by_stars.get_group(group)['business_id'].count()\n",
    "    dataforeachstar = group_by_stars.get_group(group)\n",
    "    # dictionary to store noise_level value and frequency\n",
    "    noise_level_dict = {}\n",
    "    # This is to find the nmber of 'Unknown' noise_level category\n",
    "    total_bus_noise_level_info = 0\n",
    "    for noise_level_value in noise_level_values:\n",
    "        bus_count = len(dataforeachstar[dataforeachstar['Noise Level'].apply(lambda x: noise_level_value == x)].\n",
    "                        reset_index(drop=True))\n",
    "        noise_level_dict[noise_level_value] = (bus_count + 1)/(star_bus_count + len(noise_level_values)+1)\n",
    "        total_bus_noise_level_info += bus_count\n",
    "    noise_level_dict['Unknown'] = (star_bus_count - total_bus_noise_level_info + 1)/(star_bus_count + len(noise_level_values)+1)\n",
    "    stars_noise_level_dict[group] = noise_level_dict\n",
    "#Result\n",
    "stars_noise_level_df = pd.DataFrame.from_dict(stars_noise_level_dict)"
   ]
  },
  {
   "cell_type": "code",
   "execution_count": 23,
   "metadata": {
    "collapsed": false
   },
   "outputs": [
    {
     "data": {
      "text/html": [
       "<div>\n",
       "<table border=\"1\" class=\"dataframe\">\n",
       "  <thead>\n",
       "    <tr style=\"text-align: right;\">\n",
       "      <th></th>\n",
       "      <th>1</th>\n",
       "      <th>2</th>\n",
       "      <th>3</th>\n",
       "      <th>4</th>\n",
       "      <th>5</th>\n",
       "    </tr>\n",
       "  </thead>\n",
       "  <tbody>\n",
       "    <tr>\n",
       "      <th>Unknown</th>\n",
       "      <td>0.673913</td>\n",
       "      <td>0.331130</td>\n",
       "      <td>0.195826</td>\n",
       "      <td>0.154417</td>\n",
       "      <td>0.451220</td>\n",
       "    </tr>\n",
       "    <tr>\n",
       "      <th>average</th>\n",
       "      <td>0.163043</td>\n",
       "      <td>0.395132</td>\n",
       "      <td>0.546041</td>\n",
       "      <td>0.606339</td>\n",
       "      <td>0.295122</td>\n",
       "    </tr>\n",
       "    <tr>\n",
       "      <th>loud</th>\n",
       "      <td>0.065217</td>\n",
       "      <td>0.087139</td>\n",
       "      <td>0.085635</td>\n",
       "      <td>0.051141</td>\n",
       "      <td>0.024390</td>\n",
       "    </tr>\n",
       "    <tr>\n",
       "      <th>quiet</th>\n",
       "      <td>0.076087</td>\n",
       "      <td>0.137620</td>\n",
       "      <td>0.142112</td>\n",
       "      <td>0.174169</td>\n",
       "      <td>0.224390</td>\n",
       "    </tr>\n",
       "    <tr>\n",
       "      <th>very_loud</th>\n",
       "      <td>0.021739</td>\n",
       "      <td>0.048978</td>\n",
       "      <td>0.030387</td>\n",
       "      <td>0.013934</td>\n",
       "      <td>0.004878</td>\n",
       "    </tr>\n",
       "  </tbody>\n",
       "</table>\n",
       "</div>"
      ],
      "text/plain": [
       "                  1         2         3         4         5\n",
       "Unknown    0.673913  0.331130  0.195826  0.154417  0.451220\n",
       "average    0.163043  0.395132  0.546041  0.606339  0.295122\n",
       "loud       0.065217  0.087139  0.085635  0.051141  0.024390\n",
       "quiet      0.076087  0.137620  0.142112  0.174169  0.224390\n",
       "very_loud  0.021739  0.048978  0.030387  0.013934  0.004878"
      ]
     },
     "execution_count": 23,
     "metadata": {},
     "output_type": "execute_result"
    }
   ],
   "source": [
    "stars_noise_level_df"
   ]
  },
  {
   "cell_type": "markdown",
   "metadata": {},
   "source": [
    "# Starting analysis for Price Range"
   ]
  },
  {
   "cell_type": "code",
   "execution_count": 24,
   "metadata": {
    "collapsed": false
   },
   "outputs": [],
   "source": [
    "df_restaurants_pricerange = pd.concat([df_business_restaurants_open[['business_id','stars_round']], \n",
    "           df_business_restaurants_open['attributes'].apply(pd.Series)], axis=1)[['business_id','stars_round','Price Range']]\n",
    "pricerange_values = [1., 2., 3., 4.]"
   ]
  },
  {
   "cell_type": "code",
   "execution_count": 25,
   "metadata": {
    "collapsed": true
   },
   "outputs": [],
   "source": [
    "#dictionary for storing final star against pricerange frequency\n",
    "stars_pricerange_dict = {}\n",
    "# group business by stars\n",
    "group_by_stars = df_restaurants_pricerange.groupby('stars_round')\n",
    "# loop to find info in ech star group\n",
    "for group in group_by_stars.groups:\n",
    "    # no. of businesses in this star group\n",
    "    star_bus_count = group_by_stars.get_group(group)['business_id'].count()\n",
    "    dataforeachstar = group_by_stars.get_group(group)\n",
    "    # dictionary to store pricerange value and frequency\n",
    "    pricerange_dict = {}\n",
    "    # This is to find the nmber of 'Unknown' pricerange category\n",
    "    total_bus_pricerange_info = 0\n",
    "    for pricerange_value in pricerange_values:\n",
    "        bus_count = len(dataforeachstar[dataforeachstar['Price Range'].apply(lambda x: pricerange_value == x)].\n",
    "                        reset_index(drop=True))\n",
    "        pricerange_dict[pricerange_value] = (bus_count + 1)/(star_bus_count + len(pricerange_values)+1)\n",
    "        total_bus_pricerange_info += bus_count\n",
    "    pricerange_dict['Unknown'] = (star_bus_count - total_bus_pricerange_info + 1)/(star_bus_count + len(pricerange_values)+1)\n",
    "    stars_pricerange_dict[group] = pricerange_dict\n",
    "#Result\n",
    "stars_pricerange_df = pd.DataFrame.from_dict(stars_pricerange_dict)"
   ]
  },
  {
   "cell_type": "code",
   "execution_count": 26,
   "metadata": {
    "collapsed": false
   },
   "outputs": [
    {
     "data": {
      "text/html": [
       "<div>\n",
       "<table border=\"1\" class=\"dataframe\">\n",
       "  <thead>\n",
       "    <tr style=\"text-align: right;\">\n",
       "      <th></th>\n",
       "      <th>1</th>\n",
       "      <th>2</th>\n",
       "      <th>3</th>\n",
       "      <th>4</th>\n",
       "      <th>5</th>\n",
       "    </tr>\n",
       "  </thead>\n",
       "  <tbody>\n",
       "    <tr>\n",
       "      <th>1.0</th>\n",
       "      <td>0.391304</td>\n",
       "      <td>0.560397</td>\n",
       "      <td>0.446900</td>\n",
       "      <td>0.405298</td>\n",
       "      <td>0.443902</td>\n",
       "    </tr>\n",
       "    <tr>\n",
       "      <th>2.0</th>\n",
       "      <td>0.228261</td>\n",
       "      <td>0.317308</td>\n",
       "      <td>0.465009</td>\n",
       "      <td>0.475808</td>\n",
       "      <td>0.295122</td>\n",
       "    </tr>\n",
       "    <tr>\n",
       "      <th>3.0</th>\n",
       "      <td>0.010870</td>\n",
       "      <td>0.019231</td>\n",
       "      <td>0.033763</td>\n",
       "      <td>0.059868</td>\n",
       "      <td>0.078049</td>\n",
       "    </tr>\n",
       "    <tr>\n",
       "      <th>4.0</th>\n",
       "      <td>0.010870</td>\n",
       "      <td>0.006010</td>\n",
       "      <td>0.003990</td>\n",
       "      <td>0.013091</td>\n",
       "      <td>0.029268</td>\n",
       "    </tr>\n",
       "    <tr>\n",
       "      <th>Unknown</th>\n",
       "      <td>0.358696</td>\n",
       "      <td>0.097055</td>\n",
       "      <td>0.050338</td>\n",
       "      <td>0.045935</td>\n",
       "      <td>0.153659</td>\n",
       "    </tr>\n",
       "  </tbody>\n",
       "</table>\n",
       "</div>"
      ],
      "text/plain": [
       "                1         2         3         4         5\n",
       "1.0      0.391304  0.560397  0.446900  0.405298  0.443902\n",
       "2.0      0.228261  0.317308  0.465009  0.475808  0.295122\n",
       "3.0      0.010870  0.019231  0.033763  0.059868  0.078049\n",
       "4.0      0.010870  0.006010  0.003990  0.013091  0.029268\n",
       "Unknown  0.358696  0.097055  0.050338  0.045935  0.153659"
      ]
     },
     "execution_count": 26,
     "metadata": {},
     "output_type": "execute_result"
    }
   ],
   "source": [
    "stars_pricerange_df"
   ]
  },
  {
   "cell_type": "markdown",
   "metadata": {},
   "source": [
    "# Starting analysis for Take-out"
   ]
  },
  {
   "cell_type": "code",
   "execution_count": 27,
   "metadata": {
    "collapsed": false
   },
   "outputs": [],
   "source": [
    "df_restaurants_takeout = pd.concat([df_business_restaurants_open[['business_id','stars_round']], \n",
    "           df_business_restaurants_open['attributes'].apply(pd.Series)], axis=1)[['business_id','stars_round','Take-out']]\n",
    "takeout_values = [True,False]"
   ]
  },
  {
   "cell_type": "code",
   "execution_count": 28,
   "metadata": {
    "collapsed": true
   },
   "outputs": [],
   "source": [
    "#dictionary for storing final star against takeout frequency\n",
    "stars_takeout_dict = {}\n",
    "# group business by stars\n",
    "group_by_stars = df_restaurants_takeout.groupby('stars_round')\n",
    "# loop to find info in ech star group\n",
    "for group in group_by_stars.groups:\n",
    "    # no. of businesses in this star group\n",
    "    star_bus_count = group_by_stars.get_group(group)['business_id'].count()\n",
    "    dataforeachstar = group_by_stars.get_group(group)\n",
    "    # dictionary to store takeout value and frequency\n",
    "    takeout_dict = {}\n",
    "    # This is to find the nmber of 'Unknown' takeout category\n",
    "    total_bus_takeout_info = 0\n",
    "    for takeout_value in takeout_values:\n",
    "        bus_count = len(dataforeachstar[dataforeachstar['Take-out'].apply(lambda x: takeout_value == x)].\n",
    "                        reset_index(drop=True))\n",
    "        takeout_dict[takeout_value] = (bus_count + 1)/(star_bus_count + len(takeout_values)+1)\n",
    "        total_bus_takeout_info += bus_count\n",
    "    takeout_dict['Unknown'] = (star_bus_count - total_bus_takeout_info + 1)/(star_bus_count + len(takeout_values)+1)\n",
    "    stars_takeout_dict[group] = takeout_dict\n",
    "#Result\n",
    "stars_takeout_df = pd.DataFrame.from_dict(stars_takeout_dict)"
   ]
  },
  {
   "cell_type": "code",
   "execution_count": 29,
   "metadata": {
    "collapsed": false
   },
   "outputs": [
    {
     "data": {
      "text/html": [
       "<div>\n",
       "<table border=\"1\" class=\"dataframe\">\n",
       "  <thead>\n",
       "    <tr style=\"text-align: right;\">\n",
       "      <th></th>\n",
       "      <th>1</th>\n",
       "      <th>2</th>\n",
       "      <th>3</th>\n",
       "      <th>4</th>\n",
       "      <th>5</th>\n",
       "    </tr>\n",
       "  </thead>\n",
       "  <tbody>\n",
       "    <tr>\n",
       "      <th>False</th>\n",
       "      <td>0.033333</td>\n",
       "      <td>0.050511</td>\n",
       "      <td>0.063882</td>\n",
       "      <td>0.095176</td>\n",
       "      <td>0.120098</td>\n",
       "    </tr>\n",
       "    <tr>\n",
       "      <th>True</th>\n",
       "      <td>0.666667</td>\n",
       "      <td>0.862898</td>\n",
       "      <td>0.883600</td>\n",
       "      <td>0.856968</td>\n",
       "      <td>0.759804</td>\n",
       "    </tr>\n",
       "    <tr>\n",
       "      <th>Unknown</th>\n",
       "      <td>0.300000</td>\n",
       "      <td>0.086590</td>\n",
       "      <td>0.052518</td>\n",
       "      <td>0.047856</td>\n",
       "      <td>0.120098</td>\n",
       "    </tr>\n",
       "  </tbody>\n",
       "</table>\n",
       "</div>"
      ],
      "text/plain": [
       "                1         2         3         4         5\n",
       "False    0.033333  0.050511  0.063882  0.095176  0.120098\n",
       "True     0.666667  0.862898  0.883600  0.856968  0.759804\n",
       "Unknown  0.300000  0.086590  0.052518  0.047856  0.120098"
      ]
     },
     "execution_count": 29,
     "metadata": {},
     "output_type": "execute_result"
    }
   ],
   "source": [
    "stars_takeout_df"
   ]
  },
  {
   "cell_type": "code",
   "execution_count": 30,
   "metadata": {
    "collapsed": false
   },
   "outputs": [
    {
     "name": "stdout",
     "output_type": "stream",
     "text": [
      "\n",
      " ******* Credit cards accepted *****\n",
      "                1         2         3         4         5\n",
      "False    0.011111  0.006915  0.010749  0.023047  0.061275\n",
      "True     0.677778  0.825316  0.814189  0.765084  0.571078\n",
      "Unknown  0.311111  0.167769  0.175061  0.211868  0.367647\n",
      "\n",
      " ****** Alcohol ***** \n",
      "                      1         2         3         4         5\n",
      "Unknown        0.637363  0.272919  0.165797  0.133221  0.354523\n",
      "beer_and_wine  0.021978  0.055005  0.115137  0.152821  0.102689\n",
      "full_bar       0.021978  0.153592  0.311636  0.332746  0.112469\n",
      "none           0.318681  0.518485  0.407430  0.381211  0.430318\n",
      "\n",
      " ****** Caters ********\n",
      "                1         2        3         4         5\n",
      "False    0.255556  0.419723  0.38145  0.336371  0.178922\n",
      "True     0.100000  0.163860  0.30129  0.393262  0.269608\n",
      "Unknown  0.644444  0.416416  0.31726  0.270368  0.551471\n",
      "\n",
      " ********* Noise level*******\n",
      "                  1         2         3         4         5\n",
      "Unknown    0.673913  0.331130  0.195826  0.154417  0.451220\n",
      "average    0.163043  0.395132  0.546041  0.606339  0.295122\n",
      "loud       0.065217  0.087139  0.085635  0.051141  0.024390\n",
      "quiet      0.076087  0.137620  0.142112  0.174169  0.224390\n",
      "very_loud  0.021739  0.048978  0.030387  0.013934  0.004878\n",
      "\n",
      " *********** Price range ********\n",
      "                1         2         3         4         5\n",
      "1.0      0.391304  0.560397  0.446900  0.405298  0.443902\n",
      "2.0      0.228261  0.317308  0.465009  0.475808  0.295122\n",
      "3.0      0.010870  0.019231  0.033763  0.059868  0.078049\n",
      "4.0      0.010870  0.006010  0.003990  0.013091  0.029268\n",
      "Unknown  0.358696  0.097055  0.050338  0.045935  0.153659\n",
      "\n",
      " ********* Take out ***********\n",
      "                1         2         3         4         5\n",
      "False    0.033333  0.050511  0.063882  0.095176  0.120098\n",
      "True     0.666667  0.862898  0.883600  0.856968  0.759804\n",
      "Unknown  0.300000  0.086590  0.052518  0.047856  0.120098\n"
     ]
    }
   ],
   "source": [
    "print (\"\\n ******* Credit cards accepted *****\")\n",
    "print (stars_creditcard_df)\n",
    "print (\"\\n ****** Alcohol ***** \")\n",
    "print (stars_alcohol_df)\n",
    "print (\"\\n ****** Caters ********\")\n",
    "print (stars_caters_df)\n",
    "print (\"\\n ********* Noise level*******\")\n",
    "print (stars_noise_level_df)\n",
    "print (\"\\n *********** Price range ********\")\n",
    "print (stars_pricerange_df)\n",
    "print (\"\\n ********* Take out ***********\")\n",
    "print (stars_takeout_df)"
   ]
  }
 ],
 "metadata": {
  "kernelspec": {
   "display_name": "Python 3",
   "language": "python",
   "name": "python3"
  },
  "language_info": {
   "codemirror_mode": {
    "name": "ipython",
    "version": 3
   },
   "file_extension": ".py",
   "mimetype": "text/x-python",
   "name": "python",
   "nbconvert_exporter": "python",
   "pygments_lexer": "ipython3",
   "version": "3.5.2"
  }
 },
 "nbformat": 4,
 "nbformat_minor": 0
}
