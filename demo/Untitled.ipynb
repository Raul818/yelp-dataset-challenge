{
 "cells": [
  {
   "cell_type": "code",
   "execution_count": 1,
   "metadata": {
    "collapsed": true
   },
   "outputs": [],
   "source": [
    "import pandas as pd\n",
    "import numpy as np\n",
    "import math\n",
    "\n",
    "DATASET_DIR = '../../dataset/academic'\n",
    "\n",
    "# normalize the values to [1, 2]\n",
    "def normalize(series):\n",
    "    return ((series - series.min()) / ((series.max() - series.min()) * 1.0)) + 1"
   ]
  },
  {
   "cell_type": "code",
   "execution_count": 2,
   "metadata": {
    "collapsed": false
   },
   "outputs": [],
   "source": [
    "df_review = pd.read_json('../out/yelp_academic_dataset_review_sentiment.json', lines=True)\n",
    "df_review = df_review[df_review['sentiment_value'] != 3]    # remove reviews with invalid sentiment_value"
   ]
  },
  {
   "cell_type": "code",
   "execution_count": 3,
   "metadata": {
    "collapsed": false
   },
   "outputs": [],
   "source": [
    "df_review = df_review.assign(\n",
    "    normalized_sentiment_value =\n",
    "        # stars are integers and within [1, 5]\n",
    "        lambda df: df['sentiment_value'] * normalize(df['stars']) * normalize(df['votes'].apply(lambda s: s['useful'])))\n",
    "# now the range of normalized_sentiment_value is [-8, 8]"
   ]
  },
  {
   "cell_type": "code",
   "execution_count": 4,
   "metadata": {
    "collapsed": true
   },
   "outputs": [],
   "source": [
    "df_tip = pd.read_json('../out/yelp_academic_dataset_tip_sentiment.json', lines=True)\n",
    "df_tip = df_tip[df_tip['sentiment_value'] != 3]    # remove reviews with invalid sentiment_value"
   ]
  },
  {
   "cell_type": "code",
   "execution_count": 5,
   "metadata": {
    "collapsed": false
   },
   "outputs": [],
   "source": [
    "df_tip = df_tip.assign(\n",
    "    normalized_sentiment_value =\n",
    "        lambda df: df['sentiment_value'] * normalize(df['likes']))"
   ]
  },
  {
   "cell_type": "code",
   "execution_count": 6,
   "metadata": {
    "collapsed": false
   },
   "outputs": [
    {
     "name": "stdout",
     "output_type": "stream",
     "text": [
      "57477\n"
     ]
    },
    {
     "data": {
      "text/plain": [
       "648435"
      ]
     },
     "execution_count": 6,
     "metadata": {},
     "output_type": "execute_result"
    }
   ],
   "source": [
    "print(len(df_tip['business_id'].unique()))\n",
    "len(df_tip)"
   ]
  },
  {
   "cell_type": "code",
   "execution_count": null,
   "metadata": {
    "collapsed": true
   },
   "outputs": [],
   "source": [
    "df_business = pd.read_json(DATASET_DIR + '/yelp_academic_dataset_business.json', lines=True)\n",
    "\n",
    "business_filters = (df_business['categories'].apply(lambda cs: 'Restaurants' in cs)\n",
    "                    & df_business['open']\n",
    "                    & df_business['review_count'].apply(lambda rc: rc >= 20))\n",
    "\n",
    "df_business_restaurants = (df_business[business_filters]\n",
    "                           .reset_index(drop=True)[['business_id', 'stars', 'hours', 'city', 'attributes']])"
   ]
  },
  {
   "cell_type": "code",
   "execution_count": null,
   "metadata": {
    "collapsed": false
   },
   "outputs": [],
   "source": [
    "# Add a column of 'review_rating' to the business dataframe\n",
    "\n",
    "review_group_by_business_id = df_review.groupby('business_id')\n",
    "\n",
    "def get_review_score_of_business(bid):\n",
    "    group = review_group_by_business_id.get_group(bid)\n",
    "    if not group.empty:\n",
    "        # use the mean of the normalized_sentiment_value for the review score of a business \n",
    "        return group['normalized_sentiment_value'].mean()\n",
    "    else:\n",
    "        return nan;\n",
    "\n",
    "df_business_restaurants = df_business_restaurants.assign(\n",
    "    review_rating = lambda df: df['business_id'].apply(lambda bid: get_review_score_of_business(bid)))\n",
    "\n",
    "# we found that all businesses have a least one review                                                                                                                                                                             \n",
    "# print(len(df_business_restaurants[df_business_restaurants['review_rating'] == nan])) "
   ]
  },
  {
   "cell_type": "code",
   "execution_count": null,
   "metadata": {
    "collapsed": false
   },
   "outputs": [],
   "source": [
    "# return the rating which is closeat to the score.\n",
    "# range of range is [1, 5], rounded to half-ratings\n",
    "def score_to_rating(score, bins):\n",
    "    idx = np.argmin(np.abs(bins - score)) + 1\n",
    "    return idx * 0.5 + 1\n",
    "\n",
    "bins_review_score = np.linspace(\n",
    "    df_business_restaurants['review_rating'].min(),\n",
    "    df_business_restaurants['review_rating'].max(),\n",
    "    num=9)\n",
    "\n",
    "df_business_restaurants['review_rating'] = df_business_restaurants['review_rating'].apply(\n",
    "    lambda score: score_to_rating(score, bins_review_score))"
   ]
  },
  {
   "cell_type": "code",
   "execution_count": null,
   "metadata": {
    "collapsed": false
   },
   "outputs": [],
   "source": []
  }
 ],
 "metadata": {
  "kernelspec": {
   "display_name": "Python 3",
   "language": "python",
   "name": "python3"
  },
  "language_info": {
   "codemirror_mode": {
    "name": "ipython",
    "version": 3
   },
   "file_extension": ".py",
   "mimetype": "text/x-python",
   "name": "python",
   "nbconvert_exporter": "python",
   "pygments_lexer": "ipython3",
   "version": "3.5.2"
  }
 },
 "nbformat": 4,
 "nbformat_minor": 1
}
