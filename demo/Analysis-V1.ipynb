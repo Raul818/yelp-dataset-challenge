{
 "cells": [
  {
   "cell_type": "code",
   "execution_count": 1,
   "metadata": {
    "collapsed": true
   },
   "outputs": [],
   "source": [
    "from datetime import time\n",
    "import pandas as pd\n",
    "import numpy as np\n",
    "import json as json"
   ]
  },
  {
   "cell_type": "code",
   "execution_count": 2,
   "metadata": {
    "collapsed": true
   },
   "outputs": [],
   "source": [
    "\n",
    "def write_df_to_json_file(df, filename):\n",
    "    df.reset_index().to_json(filename,orient='records')\n",
    "\n",
    "def write_preprocessed_data(df_sentiment, df_user , df_business_restaurants):\n",
    "    \n",
    "    df_sentiment_user = pd.merge(df_sentiment,df_user, how='left',  on=['user_id', 'user_id'])[['business_id','sentiment_value','user_id','useful','review_count']]\n",
    "    df_sentiment_business = df_sentiment_user.groupby('business_id',as_index=False)[['sentiment_value','useful']].mean()\n",
    "    df_bus_review_merged = pd.merge(df_business_restaurants,df_sentiment_business, how='left', \n",
    "                                     on=['business_id', 'business_id'])\n",
    "    \n",
    "    df_sentiment = pd.read_json('../out/yelp_academic_dataset_tip_sentiment.json', lines=True)[['business_id','sentiment_value','user_id']]\n",
    "    df_tip_sentiment_business = df_sentiment.groupby('business_id',as_index=False)[['sentiment_value']].mean()\n",
    "    df_bus_review_tip_merged = pd.merge(df_bus_review_merged,df_tip_sentiment_business, how='left', \n",
    "                                         on=['business_id', 'business_id'])\n",
    "    \n",
    "    df_checkin = pd.read_json('../out/business_with_checkin_count.json')[['business_id','checkin_count']]\n",
    "    df_bus_review_tip_checkin_merged = pd.merge(df_bus_review_tip_merged,df_checkin, how='left', \n",
    "                                             on=['business_id', 'business_id'])\n",
    "    \n",
    "    write_df_to_json_file(df_bus_review_tip_checkin_merged,\"../out/preprocessed_business_data.json\")\n",
    "    "
   ]
  },
  {
   "cell_type": "code",
   "execution_count": 3,
   "metadata": {
    "collapsed": true
   },
   "outputs": [],
   "source": [
    "def get_relevant_businesses(review_count):\n",
    "    df_business = pd.read_json('../yelp_academic_dataset_business.json', lines=True)\n",
    "    # Filter for restuarants that are open and only keep necessary columns\n",
    "    df_business_filtered = df_business[df_business['categories'].apply(lambda x: 'Restaurants' in x)\n",
    "                                          & df_business['open'].apply(lambda x: x == True)\n",
    "                                             & df_business['review_count'].apply(lambda x: x >= review_count)].reset_index(drop=True)[['business_id', 'stars', 'review_count','hours', 'city', 'attributes']]\n",
    "    return df_business_filtered"
   ]
  },
  {
   "cell_type": "code",
   "execution_count": 4,
   "metadata": {
    "collapsed": false
   },
   "outputs": [
    {
     "name": "stdout",
     "output_type": "stream",
     "text": [
      "11207\n"
     ]
    },
    {
     "data": {
      "text/html": [
       "<div>\n",
       "<table border=\"1\" class=\"dataframe\">\n",
       "  <thead>\n",
       "    <tr style=\"text-align: right;\">\n",
       "      <th></th>\n",
       "      <th>business_id</th>\n",
       "      <th>stars</th>\n",
       "      <th>review_count</th>\n",
       "      <th>hours</th>\n",
       "      <th>city</th>\n",
       "      <th>attributes</th>\n",
       "    </tr>\n",
       "  </thead>\n",
       "  <tbody>\n",
       "    <tr>\n",
       "      <th>0</th>\n",
       "      <td>mVHrayjG3uZ_RLHkLj-AMg</td>\n",
       "      <td>4.5</td>\n",
       "      <td>26</td>\n",
       "      <td>{'Tuesday': {'open': '10:00', 'close': '19:00'...</td>\n",
       "      <td>Braddock</td>\n",
       "      <td>{'Takes Reservations': False, 'Parking': {'val...</td>\n",
       "    </tr>\n",
       "    <tr>\n",
       "      <th>1</th>\n",
       "      <td>KayYbHCt-RkbGcPdGOThNg</td>\n",
       "      <td>4.0</td>\n",
       "      <td>23</td>\n",
       "      <td>{'Tuesday': {'open': '11:00', 'close': '02:00'...</td>\n",
       "      <td>Carnegie</td>\n",
       "      <td>{'Takes Reservations': False, 'Parking': {'val...</td>\n",
       "    </tr>\n",
       "    <tr>\n",
       "      <th>2</th>\n",
       "      <td>b9WZJp5L1RZr4F1nxclOoQ</td>\n",
       "      <td>4.5</td>\n",
       "      <td>69</td>\n",
       "      <td>{'Tuesday': {'open': '06:00', 'close': '14:30'...</td>\n",
       "      <td>Carnegie</td>\n",
       "      <td>{'Takes Reservations': False, 'Parking': {'val...</td>\n",
       "    </tr>\n",
       "    <tr>\n",
       "      <th>3</th>\n",
       "      <td>P1fJb2WQ1mXoiudj8UE44w</td>\n",
       "      <td>3.5</td>\n",
       "      <td>81</td>\n",
       "      <td>{'Tuesday': {'open': '11:00', 'close': '22:00'...</td>\n",
       "      <td>Carnegie</td>\n",
       "      <td>{'Takes Reservations': True, 'Waiter Service':...</td>\n",
       "    </tr>\n",
       "    <tr>\n",
       "      <th>4</th>\n",
       "      <td>6ilJq_05xRgek_8qUp36-g</td>\n",
       "      <td>2.0</td>\n",
       "      <td>60</td>\n",
       "      <td>{'Tuesday': {'open': '00:00', 'close': '00:00'...</td>\n",
       "      <td>Munhall</td>\n",
       "      <td>{'Takes Reservations': False, 'Waiter Service'...</td>\n",
       "    </tr>\n",
       "  </tbody>\n",
       "</table>\n",
       "</div>"
      ],
      "text/plain": [
       "              business_id  stars  review_count  \\\n",
       "0  mVHrayjG3uZ_RLHkLj-AMg    4.5            26   \n",
       "1  KayYbHCt-RkbGcPdGOThNg    4.0            23   \n",
       "2  b9WZJp5L1RZr4F1nxclOoQ    4.5            69   \n",
       "3  P1fJb2WQ1mXoiudj8UE44w    3.5            81   \n",
       "4  6ilJq_05xRgek_8qUp36-g    2.0            60   \n",
       "\n",
       "                                               hours      city  \\\n",
       "0  {'Tuesday': {'open': '10:00', 'close': '19:00'...  Braddock   \n",
       "1  {'Tuesday': {'open': '11:00', 'close': '02:00'...  Carnegie   \n",
       "2  {'Tuesday': {'open': '06:00', 'close': '14:30'...  Carnegie   \n",
       "3  {'Tuesday': {'open': '11:00', 'close': '22:00'...  Carnegie   \n",
       "4  {'Tuesday': {'open': '00:00', 'close': '00:00'...   Munhall   \n",
       "\n",
       "                                          attributes  \n",
       "0  {'Takes Reservations': False, 'Parking': {'val...  \n",
       "1  {'Takes Reservations': False, 'Parking': {'val...  \n",
       "2  {'Takes Reservations': False, 'Parking': {'val...  \n",
       "3  {'Takes Reservations': True, 'Waiter Service':...  \n",
       "4  {'Takes Reservations': False, 'Waiter Service'...  "
      ]
     },
     "execution_count": 4,
     "metadata": {},
     "output_type": "execute_result"
    }
   ],
   "source": [
    "df_business_restaurants = get_relevant_businesses(20)\n",
    "print (len(df_business_restaurants))\n",
    "df_business_restaurants.head()"
   ]
  },
  {
   "cell_type": "code",
   "execution_count": 5,
   "metadata": {
    "collapsed": true
   },
   "outputs": [],
   "source": [
    "def normalize_values(df_column):\n",
    "    mean_value = df_column.mean()\n",
    "    max_value = df_column.max()\n",
    "    min_value = df_column.min()\n",
    "    return (df_column - mean_value)/(max_value - min_value)"
   ]
  },
  {
   "cell_type": "code",
   "execution_count": 6,
   "metadata": {
    "collapsed": true
   },
   "outputs": [],
   "source": [
    "def discretize_values(df_column, number_of_bins):\n",
    "    max_value = df_column.max()\n",
    "    min_value = df_column.min()\n",
    "    bins = np.linspace(min_value, max_value, number_of_bins)\n",
    "    return df_column.apply(lambda x: np.digitize(x, bins))"
   ]
  },
  {
   "cell_type": "code",
   "execution_count": 7,
   "metadata": {
    "collapsed": true
   },
   "outputs": [],
   "source": [
    "def get_merged_sentiment_details():\n",
    "    df_sentiment = pd.read_json('../out/yelp_academic_dataset_review_sentiment.json', lines=True)[['business_id','sentiment_value','user_id']]\n",
    "    df_user = pd.read_json('../yelp_academic_dataset_user.json', lines=True)[['user_id','yelping_since','elite','votes','review_count']]\n",
    "    #extract useful votes to a column\n",
    "    df_user['useful'] =  df_user['votes'].apply(lambda x: x.get('useful'))\n",
    "    \n",
    "    #write_preprocessed_data(df_sentiment,df_user, df_business_restaurants)\n",
    "    \n",
    "    #normalize the values\n",
    "    df_user['useful'] = normalize_values(df_user['useful'])\n",
    "    df_user['useful'] = discretize_values(df_user['useful'],10)\n",
    "    #normalize the sentiments\n",
    "    df_sentiment['sentiment_value'] = normalize_values(df_sentiment['sentiment_value'])\n",
    "    df_sentiment_user = pd.merge(df_sentiment,df_user, how='left',  on=['user_id', 'user_id'])[['business_id','sentiment_value','user_id','useful','review_count']]\n",
    "    return df_sentiment_user"
   ]
  },
  {
   "cell_type": "code",
   "execution_count": 8,
   "metadata": {
    "collapsed": false,
    "scrolled": true
   },
   "outputs": [
    {
     "name": "stdout",
     "output_type": "stream",
     "text": [
      "2685066\n"
     ]
    },
    {
     "data": {
      "text/html": [
       "<div>\n",
       "<table border=\"1\" class=\"dataframe\">\n",
       "  <thead>\n",
       "    <tr style=\"text-align: right;\">\n",
       "      <th></th>\n",
       "      <th>business_id</th>\n",
       "      <th>sentiment_value</th>\n",
       "      <th>user_id</th>\n",
       "      <th>useful</th>\n",
       "      <th>review_count</th>\n",
       "    </tr>\n",
       "  </thead>\n",
       "  <tbody>\n",
       "    <tr>\n",
       "      <th>0</th>\n",
       "      <td>5UmKMjUEUNdYWqANhGckJw</td>\n",
       "      <td>0.079333</td>\n",
       "      <td>PUFPaY9KxDAcGqfsorJp3Q</td>\n",
       "      <td>1</td>\n",
       "      <td>60</td>\n",
       "    </tr>\n",
       "    <tr>\n",
       "      <th>1</th>\n",
       "      <td>5UmKMjUEUNdYWqANhGckJw</td>\n",
       "      <td>0.199333</td>\n",
       "      <td>Iu6AxdBYGR4A0wspR9BYHA</td>\n",
       "      <td>1</td>\n",
       "      <td>7</td>\n",
       "    </tr>\n",
       "    <tr>\n",
       "      <th>2</th>\n",
       "      <td>5UmKMjUEUNdYWqANhGckJw</td>\n",
       "      <td>0.066000</td>\n",
       "      <td>auESFwWvW42h6alXgFxAXQ</td>\n",
       "      <td>1</td>\n",
       "      <td>18</td>\n",
       "    </tr>\n",
       "    <tr>\n",
       "      <th>3</th>\n",
       "      <td>5UmKMjUEUNdYWqANhGckJw</td>\n",
       "      <td>-0.050667</td>\n",
       "      <td>qiczib2fO_1VBG8IoCGvVg</td>\n",
       "      <td>1</td>\n",
       "      <td>52</td>\n",
       "    </tr>\n",
       "    <tr>\n",
       "      <th>4</th>\n",
       "      <td>5UmKMjUEUNdYWqANhGckJw</td>\n",
       "      <td>-0.107333</td>\n",
       "      <td>qEE5EvV-f-s7yHC0Z4ydJQ</td>\n",
       "      <td>1</td>\n",
       "      <td>26</td>\n",
       "    </tr>\n",
       "  </tbody>\n",
       "</table>\n",
       "</div>"
      ],
      "text/plain": [
       "              business_id  sentiment_value                 user_id  useful  \\\n",
       "0  5UmKMjUEUNdYWqANhGckJw         0.079333  PUFPaY9KxDAcGqfsorJp3Q       1   \n",
       "1  5UmKMjUEUNdYWqANhGckJw         0.199333  Iu6AxdBYGR4A0wspR9BYHA       1   \n",
       "2  5UmKMjUEUNdYWqANhGckJw         0.066000  auESFwWvW42h6alXgFxAXQ       1   \n",
       "3  5UmKMjUEUNdYWqANhGckJw        -0.050667  qiczib2fO_1VBG8IoCGvVg       1   \n",
       "4  5UmKMjUEUNdYWqANhGckJw        -0.107333  qEE5EvV-f-s7yHC0Z4ydJQ       1   \n",
       "\n",
       "   review_count  \n",
       "0            60  \n",
       "1             7  \n",
       "2            18  \n",
       "3            52  \n",
       "4            26  "
      ]
     },
     "execution_count": 8,
     "metadata": {},
     "output_type": "execute_result"
    }
   ],
   "source": [
    "df_sentiment_user = get_merged_sentiment_details()\n",
    "print (len(df_sentiment_user))\n",
    "df_sentiment_user.head()"
   ]
  },
  {
   "cell_type": "code",
   "execution_count": 9,
   "metadata": {
    "collapsed": false
   },
   "outputs": [],
   "source": [
    "def reject_outliers(data, m=2):\n",
    "    original_mean = np.mean(data)\n",
    "    original_std = np.nanstd(data)\n",
    "    newdata = data[abs(data - original_mean) < m * original_std]\n",
    "    if(len(newdata) > 0 ):\n",
    "        return np.nanmean(newdata)\n",
    "    else :\n",
    "        return 0.0"
   ]
  },
  {
   "cell_type": "code",
   "execution_count": 10,
   "metadata": {
    "collapsed": true
   },
   "outputs": [],
   "source": [
    "def get_merged_business_sentiment():\n",
    "    df_sentiment_business = df_sentiment_user.groupby('business_id',as_index=False)[['sentiment_value','useful']].mean()\n",
    "    df_bus_review_merged = pd.merge(df_business_restaurants,df_sentiment_business, how='left', \n",
    "                                     on=['business_id', 'business_id'])\n",
    "    df_bus_review_merged['sentiment_value'] = discretize_values(df_bus_review_merged['sentiment_value'],100)\n",
    "    df_bus_review_merged['useful'] = discretize_values(df_bus_review_merged['useful'],10)\n",
    "    df_bus_review_merged['weighted_sentiment'] = discretize_values(df_bus_review_merged['sentiment_value'] * df_bus_review_merged['useful'], 1000)\n",
    "    return df_bus_review_merged"
   ]
  },
  {
   "cell_type": "code",
   "execution_count": 11,
   "metadata": {
    "collapsed": false,
    "scrolled": true
   },
   "outputs": [
    {
     "data": {
      "text/html": [
       "<div>\n",
       "<table border=\"1\" class=\"dataframe\">\n",
       "  <thead>\n",
       "    <tr style=\"text-align: right;\">\n",
       "      <th></th>\n",
       "      <th>business_id</th>\n",
       "      <th>stars</th>\n",
       "      <th>review_count</th>\n",
       "      <th>hours</th>\n",
       "      <th>city</th>\n",
       "      <th>attributes</th>\n",
       "      <th>sentiment_value</th>\n",
       "      <th>useful</th>\n",
       "      <th>weighted_sentiment</th>\n",
       "    </tr>\n",
       "  </thead>\n",
       "  <tbody>\n",
       "    <tr>\n",
       "      <th>0</th>\n",
       "      <td>mVHrayjG3uZ_RLHkLj-AMg</td>\n",
       "      <td>4.5</td>\n",
       "      <td>26</td>\n",
       "      <td>{'Tuesday': {'open': '10:00', 'close': '19:00'...</td>\n",
       "      <td>Braddock</td>\n",
       "      <td>{'Takes Reservations': False, 'Parking': {'val...</td>\n",
       "      <td>60</td>\n",
       "      <td>1</td>\n",
       "      <td>105</td>\n",
       "    </tr>\n",
       "    <tr>\n",
       "      <th>1</th>\n",
       "      <td>KayYbHCt-RkbGcPdGOThNg</td>\n",
       "      <td>4.0</td>\n",
       "      <td>23</td>\n",
       "      <td>{'Tuesday': {'open': '11:00', 'close': '02:00'...</td>\n",
       "      <td>Carnegie</td>\n",
       "      <td>{'Takes Reservations': False, 'Parking': {'val...</td>\n",
       "      <td>73</td>\n",
       "      <td>1</td>\n",
       "      <td>128</td>\n",
       "    </tr>\n",
       "    <tr>\n",
       "      <th>2</th>\n",
       "      <td>b9WZJp5L1RZr4F1nxclOoQ</td>\n",
       "      <td>4.5</td>\n",
       "      <td>69</td>\n",
       "      <td>{'Tuesday': {'open': '06:00', 'close': '14:30'...</td>\n",
       "      <td>Carnegie</td>\n",
       "      <td>{'Takes Reservations': False, 'Parking': {'val...</td>\n",
       "      <td>59</td>\n",
       "      <td>1</td>\n",
       "      <td>103</td>\n",
       "    </tr>\n",
       "    <tr>\n",
       "      <th>3</th>\n",
       "      <td>P1fJb2WQ1mXoiudj8UE44w</td>\n",
       "      <td>3.5</td>\n",
       "      <td>81</td>\n",
       "      <td>{'Tuesday': {'open': '11:00', 'close': '22:00'...</td>\n",
       "      <td>Carnegie</td>\n",
       "      <td>{'Takes Reservations': True, 'Waiter Service':...</td>\n",
       "      <td>54</td>\n",
       "      <td>1</td>\n",
       "      <td>94</td>\n",
       "    </tr>\n",
       "    <tr>\n",
       "      <th>4</th>\n",
       "      <td>6ilJq_05xRgek_8qUp36-g</td>\n",
       "      <td>2.0</td>\n",
       "      <td>60</td>\n",
       "      <td>{'Tuesday': {'open': '00:00', 'close': '00:00'...</td>\n",
       "      <td>Munhall</td>\n",
       "      <td>{'Takes Reservations': False, 'Waiter Service'...</td>\n",
       "      <td>38</td>\n",
       "      <td>1</td>\n",
       "      <td>66</td>\n",
       "    </tr>\n",
       "  </tbody>\n",
       "</table>\n",
       "</div>"
      ],
      "text/plain": [
       "              business_id  stars  review_count  \\\n",
       "0  mVHrayjG3uZ_RLHkLj-AMg    4.5            26   \n",
       "1  KayYbHCt-RkbGcPdGOThNg    4.0            23   \n",
       "2  b9WZJp5L1RZr4F1nxclOoQ    4.5            69   \n",
       "3  P1fJb2WQ1mXoiudj8UE44w    3.5            81   \n",
       "4  6ilJq_05xRgek_8qUp36-g    2.0            60   \n",
       "\n",
       "                                               hours      city  \\\n",
       "0  {'Tuesday': {'open': '10:00', 'close': '19:00'...  Braddock   \n",
       "1  {'Tuesday': {'open': '11:00', 'close': '02:00'...  Carnegie   \n",
       "2  {'Tuesday': {'open': '06:00', 'close': '14:30'...  Carnegie   \n",
       "3  {'Tuesday': {'open': '11:00', 'close': '22:00'...  Carnegie   \n",
       "4  {'Tuesday': {'open': '00:00', 'close': '00:00'...   Munhall   \n",
       "\n",
       "                                          attributes  sentiment_value  useful  \\\n",
       "0  {'Takes Reservations': False, 'Parking': {'val...               60       1   \n",
       "1  {'Takes Reservations': False, 'Parking': {'val...               73       1   \n",
       "2  {'Takes Reservations': False, 'Parking': {'val...               59       1   \n",
       "3  {'Takes Reservations': True, 'Waiter Service':...               54       1   \n",
       "4  {'Takes Reservations': False, 'Waiter Service'...               38       1   \n",
       "\n",
       "   weighted_sentiment  \n",
       "0                 105  \n",
       "1                 128  \n",
       "2                 103  \n",
       "3                  94  \n",
       "4                  66  "
      ]
     },
     "execution_count": 11,
     "metadata": {},
     "output_type": "execute_result"
    }
   ],
   "source": [
    "df_bus_review_merged = get_merged_business_sentiment()\n",
    "df_bus_review_merged.head()"
   ]
  },
  {
   "cell_type": "code",
   "execution_count": 12,
   "metadata": {
    "collapsed": false
   },
   "outputs": [],
   "source": [
    "def get_merged_tip_sentiments():\n",
    "    df_sentiment = pd.read_json('../out/yelp_academic_dataset_tip_sentiment.json', lines=True)[['business_id','sentiment_value','user_id']]\n",
    "    df_sentiment['tip_sentiment_value'] = normalize_values(df_sentiment['sentiment_value'])\n",
    "    df_sentiment_business = df_sentiment.groupby('business_id',as_index=False)[['tip_sentiment_value']].mean()\n",
    "    df_sentiment_business['tip_sentiment_value'] = discretize_values(df_sentiment_business['tip_sentiment_value'],100)\n",
    "    df_bus_review_tip_merged = pd.merge(df_bus_review_merged,df_sentiment_business, how='left', \n",
    "                                         on=['business_id', 'business_id'])\n",
    "    df_bus_review_tip_merged['stars'] = round(df_bus_review_tip_merged['stars'])\n",
    "    return df_bus_review_tip_merged"
   ]
  },
  {
   "cell_type": "code",
   "execution_count": 13,
   "metadata": {
    "collapsed": false
   },
   "outputs": [
    {
     "data": {
      "text/html": [
       "<div>\n",
       "<table border=\"1\" class=\"dataframe\">\n",
       "  <thead>\n",
       "    <tr style=\"text-align: right;\">\n",
       "      <th></th>\n",
       "      <th>business_id</th>\n",
       "      <th>stars</th>\n",
       "      <th>review_count</th>\n",
       "      <th>hours</th>\n",
       "      <th>city</th>\n",
       "      <th>attributes</th>\n",
       "      <th>sentiment_value</th>\n",
       "      <th>useful</th>\n",
       "      <th>weighted_sentiment</th>\n",
       "      <th>tip_sentiment_value</th>\n",
       "    </tr>\n",
       "  </thead>\n",
       "  <tbody>\n",
       "    <tr>\n",
       "      <th>0</th>\n",
       "      <td>mVHrayjG3uZ_RLHkLj-AMg</td>\n",
       "      <td>4.0</td>\n",
       "      <td>26</td>\n",
       "      <td>{'Tuesday': {'open': '10:00', 'close': '19:00'...</td>\n",
       "      <td>Braddock</td>\n",
       "      <td>{'Takes Reservations': False, 'Parking': {'val...</td>\n",
       "      <td>60</td>\n",
       "      <td>1</td>\n",
       "      <td>105</td>\n",
       "      <td>30.0</td>\n",
       "    </tr>\n",
       "    <tr>\n",
       "      <th>1</th>\n",
       "      <td>KayYbHCt-RkbGcPdGOThNg</td>\n",
       "      <td>4.0</td>\n",
       "      <td>23</td>\n",
       "      <td>{'Tuesday': {'open': '11:00', 'close': '02:00'...</td>\n",
       "      <td>Carnegie</td>\n",
       "      <td>{'Takes Reservations': False, 'Parking': {'val...</td>\n",
       "      <td>73</td>\n",
       "      <td>1</td>\n",
       "      <td>128</td>\n",
       "      <td>62.0</td>\n",
       "    </tr>\n",
       "    <tr>\n",
       "      <th>2</th>\n",
       "      <td>b9WZJp5L1RZr4F1nxclOoQ</td>\n",
       "      <td>4.0</td>\n",
       "      <td>69</td>\n",
       "      <td>{'Tuesday': {'open': '06:00', 'close': '14:30'...</td>\n",
       "      <td>Carnegie</td>\n",
       "      <td>{'Takes Reservations': False, 'Parking': {'val...</td>\n",
       "      <td>59</td>\n",
       "      <td>1</td>\n",
       "      <td>103</td>\n",
       "      <td>50.0</td>\n",
       "    </tr>\n",
       "    <tr>\n",
       "      <th>3</th>\n",
       "      <td>P1fJb2WQ1mXoiudj8UE44w</td>\n",
       "      <td>4.0</td>\n",
       "      <td>81</td>\n",
       "      <td>{'Tuesday': {'open': '11:00', 'close': '22:00'...</td>\n",
       "      <td>Carnegie</td>\n",
       "      <td>{'Takes Reservations': True, 'Waiter Service':...</td>\n",
       "      <td>54</td>\n",
       "      <td>1</td>\n",
       "      <td>94</td>\n",
       "      <td>45.0</td>\n",
       "    </tr>\n",
       "    <tr>\n",
       "      <th>4</th>\n",
       "      <td>6ilJq_05xRgek_8qUp36-g</td>\n",
       "      <td>2.0</td>\n",
       "      <td>60</td>\n",
       "      <td>{'Tuesday': {'open': '00:00', 'close': '00:00'...</td>\n",
       "      <td>Munhall</td>\n",
       "      <td>{'Takes Reservations': False, 'Waiter Service'...</td>\n",
       "      <td>38</td>\n",
       "      <td>1</td>\n",
       "      <td>66</td>\n",
       "      <td>43.0</td>\n",
       "    </tr>\n",
       "  </tbody>\n",
       "</table>\n",
       "</div>"
      ],
      "text/plain": [
       "              business_id  stars  review_count  \\\n",
       "0  mVHrayjG3uZ_RLHkLj-AMg    4.0            26   \n",
       "1  KayYbHCt-RkbGcPdGOThNg    4.0            23   \n",
       "2  b9WZJp5L1RZr4F1nxclOoQ    4.0            69   \n",
       "3  P1fJb2WQ1mXoiudj8UE44w    4.0            81   \n",
       "4  6ilJq_05xRgek_8qUp36-g    2.0            60   \n",
       "\n",
       "                                               hours      city  \\\n",
       "0  {'Tuesday': {'open': '10:00', 'close': '19:00'...  Braddock   \n",
       "1  {'Tuesday': {'open': '11:00', 'close': '02:00'...  Carnegie   \n",
       "2  {'Tuesday': {'open': '06:00', 'close': '14:30'...  Carnegie   \n",
       "3  {'Tuesday': {'open': '11:00', 'close': '22:00'...  Carnegie   \n",
       "4  {'Tuesday': {'open': '00:00', 'close': '00:00'...   Munhall   \n",
       "\n",
       "                                          attributes  sentiment_value  useful  \\\n",
       "0  {'Takes Reservations': False, 'Parking': {'val...               60       1   \n",
       "1  {'Takes Reservations': False, 'Parking': {'val...               73       1   \n",
       "2  {'Takes Reservations': False, 'Parking': {'val...               59       1   \n",
       "3  {'Takes Reservations': True, 'Waiter Service':...               54       1   \n",
       "4  {'Takes Reservations': False, 'Waiter Service'...               38       1   \n",
       "\n",
       "   weighted_sentiment  tip_sentiment_value  \n",
       "0                 105                 30.0  \n",
       "1                 128                 62.0  \n",
       "2                 103                 50.0  \n",
       "3                  94                 45.0  \n",
       "4                  66                 43.0  "
      ]
     },
     "execution_count": 13,
     "metadata": {},
     "output_type": "execute_result"
    }
   ],
   "source": [
    "df_bus_review_tip_merged = get_merged_tip_sentiments()\n",
    "df_bus_review_tip_merged.head()"
   ]
  },
  {
   "cell_type": "code",
   "execution_count": 14,
   "metadata": {
    "collapsed": false
   },
   "outputs": [],
   "source": [
    "def get_merged_checkin_count():\n",
    "    df_checkin = pd.read_json('../out/business_with_checkin_count.json')[['business_id','checkin_count']]\n",
    "    df_bus_review_tip_checkin_merged = pd.merge(df_bus_review_tip_merged,df_checkin, how='left', \n",
    "                                             on=['business_id', 'business_id'])\n",
    "    df_bus_review_tip_checkin_merged['checkin_count'] = discretize_values(normalize_values(df_bus_review_tip_checkin_merged['checkin_count']),10)\n",
    "    return df_bus_review_tip_checkin_merged"
   ]
  },
  {
   "cell_type": "code",
   "execution_count": 15,
   "metadata": {
    "collapsed": true
   },
   "outputs": [],
   "source": [
    "df_bus_review_tip__checkin = get_merged_checkin_count()"
   ]
  },
  {
   "cell_type": "code",
   "execution_count": 16,
   "metadata": {
    "collapsed": true
   },
   "outputs": [],
   "source": [
    "def get_business_bystars(training_restaurants_df, stars_column):\n",
    "    group_by_stars = training_restaurants_df.groupby(stars_column)\n",
    "    business_of_stars = {}\n",
    "    for star in group_by_stars.groups:\n",
    "        group = group_by_stars.get_group(star)\n",
    "        business_of_stars[star] = group.assign(working_type=lambda x: x['hours'])\n",
    "    return business_of_stars"
   ]
  },
  {
   "cell_type": "code",
   "execution_count": 17,
   "metadata": {
    "collapsed": true
   },
   "outputs": [],
   "source": [
    "from sklearn.preprocessing import normalize\n",
    "def get_priors(business_of_stars,training_restaurants_df):\n",
    "    prior_of_stars = {}\n",
    "    for star in business_of_stars:\n",
    "        prior_of_stars[star] = len(business_of_stars[star]) * 1.0 / len(training_restaurants_df)\n",
    "    #print (prior_of_stars)\n",
    "    x = list(prior_of_stars.values())\n",
    "    normalizing_fact = 1 / np.linalg.norm(x)\n",
    "    for k in prior_of_stars:\n",
    "        prior_of_stars[k] = prior_of_stars[k] * normalizing_fact\n",
    "    return prior_of_stars"
   ]
  },
  {
   "cell_type": "code",
   "execution_count": 18,
   "metadata": {
    "collapsed": false
   },
   "outputs": [],
   "source": [
    "def get_uniqueattributevalues(atrribute_names, training_restaurants_df, unique_dimension_values):\n",
    "    for attribute_name in atrribute_names:\n",
    "        tdf = training_restaurants_df['attributes'].apply(lambda a: extract_value_from_attrs(a, attribute_name))\n",
    "        unique_dimension_values[attribute_name] = tdf.unique()"
   ]
  },
  {
   "cell_type": "code",
   "execution_count": 19,
   "metadata": {
    "collapsed": true
   },
   "outputs": [],
   "source": [
    "def get_working_type(business_of_stars):\n",
    "    working_type_set = set()\n",
    "    for star in business_of_stars:\n",
    "        business_of_star_df = business_of_stars[star]\n",
    "        business_of_star_df['working_type'] = business_of_star_df['working_type'].apply(hours_to_type)\n",
    "        working_type_set |= set(business_of_star_df['working_type'].unique())\n",
    "    return working_type_set"
   ]
  },
  {
   "cell_type": "code",
   "execution_count": 20,
   "metadata": {
    "collapsed": true
   },
   "outputs": [],
   "source": [
    "def get_unique_columnvalues(training_restaurants_df, column_names,unique_dimension_values):\n",
    "    for column_name in column_names:\n",
    "        unique_dimension_values[column_name] = training_restaurants_df['city'].unique()"
   ]
  },
  {
   "cell_type": "code",
   "execution_count": 21,
   "metadata": {
    "collapsed": false
   },
   "outputs": [],
   "source": [
    "from datetime import time\n",
    "\n",
    "WORKING_TYPES = {\n",
    "    \"WEEKEND_TYPE\": \"weekend\",\n",
    "    \"BREAKFAST_TYPE\": \"breakfast\",\n",
    "    \"LUNCH_TYPE\": \"lunch\",\n",
    "    \"AFTER_LUNCH_TYPE\": \"after-lunch\",\n",
    "    \"DINNER_TYPE\": \"dinner\",\n",
    "    \"NIGHT_TYPE\": \"night\",\n",
    "}\n",
    "\n",
    "breakfast = time(8)\n",
    "lunch = time(12)\n",
    "after_lunch = time(15)\n",
    "dinner = time(18)\n",
    "night = time(0)\n",
    "\n",
    "def in_between(start, end, check):\n",
    "    if start == end: # 24 hours\n",
    "        return True\n",
    "    if start < end:\n",
    "        return start <= check < end\n",
    "    else: # over midnight e.g., 23:30-04:15\n",
    "        return start <= check or check < end\n",
    "\n",
    "TYPE_THRESHOLD = 1\n",
    "def spec_hours_to_type(s):\n",
    "    types = []\n",
    "    \n",
    "    breakfast_count = 0\n",
    "    lunch_count = 0\n",
    "    after_lunch_count = 0\n",
    "    dinner_count = 0\n",
    "    night_count = 0\n",
    "\n",
    "    for day in s:\n",
    "        \n",
    "        clo = s[day]['close']\n",
    "        op = s[day]['open']\n",
    "\n",
    "        h, m = clo.split(':')\n",
    "        clo_t = time(int(h), int(m))\n",
    "\n",
    "        h, m = op.split(':')\n",
    "        op_t = time(int(h), int(m))\n",
    "        \n",
    "        if in_between(op_t, clo_t, breakfast):\n",
    "            breakfast_count += 1\n",
    "        \n",
    "        if in_between(op_t, clo_t, lunch):\n",
    "            lunch_count += 1\n",
    "        \n",
    "        if in_between(op_t, clo_t, after_lunch):\n",
    "            after_lunch_count += 1\n",
    "        \n",
    "        if in_between(op_t, clo_t, dinner):\n",
    "            dinner_count += 1\n",
    "        \n",
    "        if in_between(op_t, clo_t, night):\n",
    "            night_count += 1\n",
    "        \n",
    "        if (day in ['Saturday', 'Sunday']) and (WORKING_TYPES[\"WEEKEND_TYPE\"] not in types):\n",
    "            types.append(WORKING_TYPES[\"WEEKEND_TYPE\"])\n",
    "            \n",
    "    if breakfast_count >= TYPE_THRESHOLD:\n",
    "        types.append(WORKING_TYPES[\"BREAKFAST_TYPE\"])\n",
    "        \n",
    "    if lunch_count >= TYPE_THRESHOLD:\n",
    "        types.append(WORKING_TYPES[\"LUNCH_TYPE\"])\n",
    "    \n",
    "    if after_lunch_count >= TYPE_THRESHOLD:\n",
    "        types.append(WORKING_TYPES[\"AFTER_LUNCH_TYPE\"])\n",
    "    \n",
    "    if dinner_count >= TYPE_THRESHOLD:\n",
    "        types.append(WORKING_TYPES[\"DINNER_TYPE\"])\n",
    "        \n",
    "    if night_count >= TYPE_THRESHOLD:\n",
    "        types.append(WORKING_TYPES[\"NIGHT_TYPE\"])\n",
    "    \n",
    "    return join_types(types)\n",
    "\n",
    "def hours_to_type(s):\n",
    "    if isinstance(s, str):\n",
    "        return s\n",
    "    \n",
    "    if s:\n",
    "        return spec_hours_to_type(s)\n",
    "    else:\n",
    "        return join_types(WORKING_TYPES.values())\n",
    "\n",
    "def join_types(ts):\n",
    "    # reorder\n",
    "    ordered_types = []\n",
    "    for t in WORKING_TYPES.values():\n",
    "        if t in ts:\n",
    "            ordered_types.append(t)\n",
    "    return '_'.join(ordered_types)\n",
    "\n",
    "\n",
    "DEFAULT_TYPE = 'default'\n",
    "def extract_value_from_attrs(attrs, k):\n",
    "    if k in attrs:\n",
    "        return attrs[k]\n",
    "    else:\n",
    "        return DEFAULT_TYPE\n",
    "    \n",
    "def filter_from_attr_val(attr, k, v):\n",
    "    return k in attr and attr[k] == v\n",
    "\n",
    "def filter_no_attr(attr, k):\n",
    "    return k not in attr"
   ]
  },
  {
   "cell_type": "code",
   "execution_count": 22,
   "metadata": {
    "collapsed": false
   },
   "outputs": [],
   "source": [
    "def calculate_frequencies(attributes, dimensions, unique_dimension_values, business_of_stars):\n",
    "    \n",
    "    dimension_freq_map = {}\n",
    "    for dimension in (attributes + dimensions):\n",
    "        dimension_star_map = {}\n",
    "        dimension_freq_map[dimension] = dimension_star_map\n",
    "    \n",
    "    #calculate the frequencies\n",
    "    for star in business_of_stars:\n",
    "\n",
    "        business_of_star_df = business_of_stars[star]\n",
    "        num_business = len(business_of_star_df)\n",
    "\n",
    "        for dimension in dimensions:\n",
    "            dim_star_map = dimension_freq_map[dimension]\n",
    "            dim_freq = {}\n",
    "            dim_of_business = business_of_star_df.groupby(dimension)\n",
    "            num_unique_dimensions = len(unique_dimension_values[dimension])\n",
    "            for grp in dim_of_business.groups:\n",
    "                # we use the add-one or Laplace smoothing\n",
    "                dim_freq[grp] = (len(dim_of_business.get_group(grp)) + 1.0) / (num_business + num_unique_dimensions)\n",
    "            dim_freq[DEFAULT_TYPE] = 1.0 / (num_business + num_unique_dimensions)\n",
    "            dim_star_map[star] = dim_freq\n",
    "\n",
    "        for attribute in attributes:\n",
    "            attr_star_map = dimension_freq_map[attribute]\n",
    "            attribute_freq = {}\n",
    "            attr_set = unique_dimension_values[attribute]\n",
    "            for t in attr_set:\n",
    "                if t != DEFAULT_TYPE:\n",
    "                    num = len(business_of_star_df[business_of_star_df['attributes'].apply(lambda attr: filter_from_attr_val(attr, attribute, t))])\n",
    "                else:\n",
    "                    num = len(business_of_star_df[business_of_star_df['attributes'].apply(lambda attr: filter_no_attr(attr, attribute))])\n",
    "                attribute_freq[t] = (num + 1.0) / (num_business + len(attr_set))\n",
    "            if DEFAULT_TYPE not in  attribute_freq:\n",
    "                attribute_freq[DEFAULT_TYPE] = 1.0 / (num_business + len(attr_set))\n",
    "            attr_star_map[star] = attribute_freq\n",
    "            \n",
    "    return dimension_freq_map\n"
   ]
  },
  {
   "cell_type": "markdown",
   "metadata": {},
   "source": [
    "Verification our test set"
   ]
  },
  {
   "cell_type": "code",
   "execution_count": 23,
   "metadata": {
    "collapsed": false
   },
   "outputs": [],
   "source": [
    "import numpy as np\n",
    "import operator\n",
    "\n",
    "def predict(probs):\n",
    "    sorted_probs = sorted(probs.items(), key=operator.itemgetter(1))\n",
    "    return sorted_probs[-1][0]\n",
    "    \n",
    "def correctness(stars, estimated_stars):\n",
    "    return stars == estimated_stars\n",
    "    \n",
    "def distance(stars, estimated_stars):\n",
    "    return abs(stars - estimated_stars)\n",
    "\n",
    "def calc_probs(row_value, dim_freq_map, selected_columns, prior_of_stars):#hours, city, attrs, sentiment_value, weighted, tip_sentiment, checkin_count):\n",
    "    #print (row_value)\n",
    "    probs_of_stars = {}\n",
    "    \n",
    "    working_type = hours_to_type(row_value['hours'])\n",
    "    #print (working_type)\n",
    "    for star in prior_of_stars:\n",
    "        prob = np.log(prior_of_stars[star])\n",
    "        types_freq_of_stars = dim_freq_map[working_type_column]\n",
    "        #print (types_freq_of_stars)\n",
    "        prob += np.log(types_freq_of_stars[star].get(working_type, types_freq_of_stars[star]['default']))\n",
    "        \n",
    "        for dimension in selected_columns:\n",
    "            dim_freq_star_map = dim_freq_map[dimension]\n",
    "            prob += np.log(dim_freq_star_map[star].get(row_value[dimension], dim_freq_star_map[star]['default']))\n",
    "        \n",
    "        attrs = row_value['attributes']\n",
    "        for attribute in atrribute_names:  \n",
    "            dim_freq_star_map = dim_freq_map[attribute]\n",
    "            attrcol = extract_value_from_attrs(attrs, attribute)\n",
    "            #print (attribute, attrcol)\n",
    "            #print (dim_freq_star_map[star][DEFAULT_TYPE], \"\\n\")\n",
    "            prob += np.log(dim_freq_star_map[star].get(attrcol, dim_freq_star_map[star][DEFAULT_TYPE]))\n",
    "        probs_of_stars[star] = prob\n",
    "    return probs_of_stars"
   ]
  },
  {
   "cell_type": "code",
   "execution_count": 24,
   "metadata": {
    "collapsed": true
   },
   "outputs": [],
   "source": [
    "atrribute_names = ['Accepts Credit Cards','Alcohol','Caters','Noise Level','Price Range','Take-out']\n",
    "column_names = ['city','weighted_sentiment','sentiment_value','tip_sentiment_value','checkin_count']\n",
    "working_type_column = 'working_type'\n",
    "\n",
    "def trainNB(training_restaurants_df):\n",
    "    #group by stars \n",
    "    business_of_stars = get_business_bystars(training_restaurants_df,'stars')\n",
    "    #get priors\n",
    "    prior_of_stars = get_priors(business_of_stars,training_restaurants_df )\n",
    "    #get unique values for attributes\n",
    "    unique_dimension_values = {}\n",
    "    get_uniqueattributevalues(atrribute_names, training_restaurants_df, unique_dimension_values)\n",
    "     # unique values for columns\n",
    "    get_unique_columnvalues(training_restaurants_df, column_names,  unique_dimension_values)\n",
    "    unique_dimension_values[working_type_column] = get_working_type(business_of_stars)\n",
    "    \n",
    "    dimension_frequency_map = calculate_frequencies(atrribute_names,column_names+[working_type_column], unique_dimension_values, business_of_stars)\n",
    "    return dimension_frequency_map, prior_of_stars"
   ]
  },
  {
   "cell_type": "code",
   "execution_count": 25,
   "metadata": {
    "collapsed": true
   },
   "outputs": [],
   "source": [
    "def testNB(test_restaurants_df, dim_freq_map, selected_columns, prior_of_stars):\n",
    "    result = pd.DataFrame()\n",
    "    result['stars'] = test_restaurants_df['stars']\n",
    "    result['stars_probs'] = test_restaurants_df.apply(lambda r: calc_probs(r, dim_freq_map, selected_columns, prior_of_stars), axis=1)\n",
    "    result['estimated_stars'] = result.apply(lambda r: predict(r['stars_probs']), axis=1)\n",
    "    #write_df_to_json_file(test_restaurants_df[['stars','estimated_weighted_stars','estimated_stars']],\"../out/results.json\")\n",
    "    result['correctness'] = result.apply(lambda r: correctness(r['stars'], r['estimated_stars']), axis=1)\n",
    "    corrects = len(result[result['correctness'] == True])\n",
    "    result['distance'] = result.apply(lambda r: distance(r['stars'], r['estimated_stars']), axis=1)\n",
    "    result['diff'] = result.apply(lambda r: r['stars'] - r['estimated_stars'], axis=1)\n",
    "    result_t = result[result['diff'].apply(lambda x: abs(x) >= 0.5)]\n",
    "    accuracy =  corrects * 1.0 / len(result)\n",
    "    avg_dist = result['distance'].mean()\n",
    "    off_by_morethan_halfstar = len(result_t)\n",
    "    return accuracy,avg_dist,off_by_morethan_halfstar"
   ]
  },
  {
   "cell_type": "code",
   "execution_count": 26,
   "metadata": {
    "collapsed": true
   },
   "outputs": [],
   "source": [
    "#80% training data\n",
    "def test_trainsplit(df,fraction = .8):\n",
    "    training_restaurants_df = df.sample(frac=fraction, random_state = 42)\n",
    "    test_restaurants_df = df[~df.isin(training_restaurants_df)].dropna()\n",
    "    return training_restaurants_df, test_restaurants_df\n"
   ]
  },
  {
   "cell_type": "markdown",
   "metadata": {},
   "source": [
    "Calculte the accuracy"
   ]
  },
  {
   "cell_type": "code",
   "execution_count": 27,
   "metadata": {
    "collapsed": false
   },
   "outputs": [
    {
     "name": "stdout",
     "output_type": "stream",
     "text": [
      "accuracy,dist,offcount : 0.8328061455038409 0.1789426118391324 370\n",
      "weighted -- accuracy,dist,offcount : 0.8269317668323543 0.18798011748757343 383\n"
     ]
    }
   ],
   "source": [
    "training, test = test_trainsplit(df_bus_review_tip__checkin)\n",
    "dim_freq_map,prior_of_stars = trainNB(training)\n",
    "selected_columns = ['city','sentiment_value','tip_sentiment_value','checkin_count']\n",
    "accuracy,dist,offcount = testNB (test,dim_freq_map, selected_columns,prior_of_stars)\n",
    "print (\"accuracy,dist,offcount :\",accuracy,dist,offcount)\n",
    "selected_columns = ['city','weighted_sentiment','tip_sentiment_value','checkin_count']\n",
    "accuracy,dist,offcount = testNB (test,dim_freq_map, selected_columns,prior_of_stars)\n",
    "print (\"weighted -- accuracy,dist,offcount :\",accuracy,dist,offcount)"
   ]
  },
  {
   "cell_type": "code",
   "execution_count": 28,
   "metadata": {
    "collapsed": false
   },
   "outputs": [],
   "source": [
    "def get_kfolds(df, folds = 10):\n",
    "    df_list = []\n",
    "    newdf = df\n",
    "    for i in range(0,9):\n",
    "        df_part = newdf.sample(frac= (1.0/(folds - i)), random_state = 42)\n",
    "        df_list.append(df_part)\n",
    "        newdf = newdf[~newdf.isin(df_part)].dropna()\n",
    "    df_list.append(newdf) \n",
    "    return df_list"
   ]
  },
  {
   "cell_type": "code",
   "execution_count": 29,
   "metadata": {
    "collapsed": false
   },
   "outputs": [],
   "source": [
    "def k_fold_crossvalidation():\n",
    "    folds = get_kfolds(df_bus_review_tip__checkin)\n",
    "    accuracy_list = []\n",
    "    dist_list = []\n",
    "    offcount_list = []\n",
    "    for i in range(0, 10):\n",
    "        test = folds[i]\n",
    "        train_list = folds[:i] + folds[(i+1):]\n",
    "        train = pd.concat(train_list)\n",
    "        dim_freq_map,prior_of_stars = trainNB(train)\n",
    "        selected_columns = ['city','sentiment_value','tip_sentiment_value','checkin_count']\n",
    "        accuracy,dist,offcount = testNB (test,dim_freq_map, selected_columns,prior_of_stars)\n",
    "        accuracy_list.append(accuracy)\n",
    "        dist_list.append(dist)\n",
    "        offcount_list.append(offcount)\n",
    "    return np.mean(np.asarray(accuracy_list)), np.mean(np.asarray(dist_list)), np.mean(np.asarray(offcount_list))"
   ]
  },
  {
   "cell_type": "code",
   "execution_count": 30,
   "metadata": {
    "collapsed": false
   },
   "outputs": [
    {
     "name": "stdout",
     "output_type": "stream",
     "text": [
      "(0.82298725120770988, 0.190752532346047, 195.80000000000001)\n"
     ]
    }
   ],
   "source": [
    "print (k_fold_crossvalidation())\n"
   ]
  },
  {
   "cell_type": "code",
   "execution_count": null,
   "metadata": {
    "collapsed": true
   },
   "outputs": [],
   "source": []
  }
 ],
 "metadata": {
  "anaconda-cloud": {},
  "kernelspec": {
   "display_name": "Python [default]",
   "language": "python",
   "name": "python3"
  },
  "language_info": {
   "codemirror_mode": {
    "name": "ipython",
    "version": 3
   },
   "file_extension": ".py",
   "mimetype": "text/x-python",
   "name": "python",
   "nbconvert_exporter": "python",
   "pygments_lexer": "ipython3",
   "version": "3.5.2"
  }
 },
 "nbformat": 4,
 "nbformat_minor": 1
}
