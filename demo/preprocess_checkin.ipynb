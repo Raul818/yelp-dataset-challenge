{
 "cells": [
  {
   "cell_type": "code",
   "execution_count": 10,
   "metadata": {
    "collapsed": false
   },
   "outputs": [
    {
     "data": {
      "text/plain": [
       "u'0.19.0'"
      ]
     },
     "execution_count": 10,
     "metadata": {},
     "output_type": "execute_result"
    }
   ],
   "source": [
    "from pandas.io.json import json_normalize\n",
    "import pandas as pd\n",
    "\n",
    "pd.__version__\n"
   ]
  },
  {
   "cell_type": "code",
   "execution_count": 11,
   "metadata": {
    "collapsed": false
   },
   "outputs": [
    {
     "data": {
      "text/html": [
       "<div>\n",
       "<table border=\"1\" class=\"dataframe\">\n",
       "  <thead>\n",
       "    <tr style=\"text-align: right;\">\n",
       "      <th></th>\n",
       "      <th>business_id</th>\n",
       "      <th>checkin_info</th>\n",
       "      <th>type</th>\n",
       "    </tr>\n",
       "  </thead>\n",
       "  <tbody>\n",
       "    <tr>\n",
       "      <th>0</th>\n",
       "      <td>cE27W9VPgO88Qxe4ol6y_g</td>\n",
       "      <td>{u'9-5': 1, u'7-5': 1, u'13-3': 1, u'17-6': 1,...</td>\n",
       "      <td>checkin</td>\n",
       "    </tr>\n",
       "    <tr>\n",
       "      <th>1</th>\n",
       "      <td>mVHrayjG3uZ_RLHkLj-AMg</td>\n",
       "      <td>{u'11-5': 1, u'9-5': 2, u'9-4': 3, u'15-1': 1,...</td>\n",
       "      <td>checkin</td>\n",
       "    </tr>\n",
       "    <tr>\n",
       "      <th>2</th>\n",
       "      <td>mYSpR_SLPgUVymYOvTQd_Q</td>\n",
       "      <td>{u'5-5': 1, u'5-4': 1, u'9-3': 1, u'11-4': 1, ...</td>\n",
       "      <td>checkin</td>\n",
       "    </tr>\n",
       "    <tr>\n",
       "      <th>3</th>\n",
       "      <td>KayYbHCt-RkbGcPdGOThNg</td>\n",
       "      <td>{u'23-1': 1, u'11-2': 2, u'21-4': 1, u'16-1': ...</td>\n",
       "      <td>checkin</td>\n",
       "    </tr>\n",
       "    <tr>\n",
       "      <th>4</th>\n",
       "      <td>b12U9TFESStdy7CsTtcOeg</td>\n",
       "      <td>{u'5-5': 2, u'13-2': 1, u'8-6': 1, u'5-1': 2, ...</td>\n",
       "      <td>checkin</td>\n",
       "    </tr>\n",
       "  </tbody>\n",
       "</table>\n",
       "</div>"
      ],
      "text/plain": [
       "              business_id                                       checkin_info  \\\n",
       "0  cE27W9VPgO88Qxe4ol6y_g  {u'9-5': 1, u'7-5': 1, u'13-3': 1, u'17-6': 1,...   \n",
       "1  mVHrayjG3uZ_RLHkLj-AMg  {u'11-5': 1, u'9-5': 2, u'9-4': 3, u'15-1': 1,...   \n",
       "2  mYSpR_SLPgUVymYOvTQd_Q  {u'5-5': 1, u'5-4': 1, u'9-3': 1, u'11-4': 1, ...   \n",
       "3  KayYbHCt-RkbGcPdGOThNg  {u'23-1': 1, u'11-2': 2, u'21-4': 1, u'16-1': ...   \n",
       "4  b12U9TFESStdy7CsTtcOeg  {u'5-5': 2, u'13-2': 1, u'8-6': 1, u'5-1': 2, ...   \n",
       "\n",
       "      type  \n",
       "0  checkin  \n",
       "1  checkin  \n",
       "2  checkin  \n",
       "3  checkin  \n",
       "4  checkin  "
      ]
     },
     "execution_count": 11,
     "metadata": {},
     "output_type": "execute_result"
    }
   ],
   "source": [
    "df_checkin = pd.read_json('yelp_academic_dataset_checkin.json', lines=True)\n",
    "(df_checkin.head(n=5))"
   ]
  },
  {
   "cell_type": "code",
   "execution_count": 12,
   "metadata": {
    "collapsed": false
   },
   "outputs": [
    {
     "name": "stdout",
     "output_type": "stream",
     "text": [
      "61049\n",
      "61049\n"
     ]
    }
   ],
   "source": [
    "print len(df_checkin['business_id'].unique())\n",
    "print len(df_checkin)"
   ]
  },
  {
   "cell_type": "markdown",
   "metadata": {},
   "source": [
    "This implies all the business ids are unique."
   ]
  },
  {
   "cell_type": "code",
   "execution_count": 13,
   "metadata": {
    "collapsed": true
   },
   "outputs": [],
   "source": [
    "df_business = pd.read_json('yelp_academic_dataset_business.json', lines=True)"
   ]
  },
  {
   "cell_type": "code",
   "execution_count": 14,
   "metadata": {
    "collapsed": false
   },
   "outputs": [
    {
     "name": "stdout",
     "output_type": "stream",
     "text": [
      "85901\n"
     ]
    }
   ],
   "source": [
    "print len(df_business['business_id'].unique())"
   ]
  },
  {
   "cell_type": "markdown",
   "metadata": {},
   "source": [
    "Check if any of the 61049 restaurants in checkin dataset are present in the total list of 85901 restaurants. "
   ]
  },
  {
   "cell_type": "markdown",
   "metadata": {
    "collapsed": false
   },
   "source": [
    "All businesses present in the checkin dataset are present in the business dataset. Let's count their checkins."
   ]
  },
  {
   "cell_type": "code",
   "execution_count": 28,
   "metadata": {
    "collapsed": false
   },
   "outputs": [
    {
     "name": "stdout",
     "output_type": "stream",
     "text": [
      "  count\n",
      "0   NaN\n",
      "1   NaN\n",
      "2   NaN\n",
      "3   NaN\n",
      "4   NaN\n",
      "  count\n",
      "0     9\n",
      "1    28\n",
      "2     8\n",
      "3    65\n",
      "4     7\n"
     ]
    }
   ],
   "source": [
    "df_count = pd.DataFrame(index=df_checkin.index, columns=[\"count\"])\n",
    "print df_count.head()\n",
    "for i,r in df_checkin.iterrows():\n",
    "    #print df_checkin['checkin_info'][i].values()\n",
    "    df_count['count'][i] = sum(df_checkin['checkin_info'][i].values())\n",
    "\n",
    "print df_count.head(n=5)"
   ]
  },
  {
   "cell_type": "code",
   "execution_count": 29,
   "metadata": {
    "collapsed": false
   },
   "outputs": [
    {
     "name": "stdout",
     "output_type": "stream",
     "text": [
      "61049\n"
     ]
    }
   ],
   "source": [
    "print len(df_count)"
   ]
  },
  {
   "cell_type": "code",
   "execution_count": 30,
   "metadata": {
    "collapsed": true
   },
   "outputs": [],
   "source": [
    "df_new_checkin = pd.concat([df_checkin, df_count], axis=1)"
   ]
  },
  {
   "cell_type": "code",
   "execution_count": 31,
   "metadata": {
    "collapsed": false
   },
   "outputs": [
    {
     "name": "stdout",
     "output_type": "stream",
     "text": [
      "              business_id                                       checkin_info  \\\n",
      "0  cE27W9VPgO88Qxe4ol6y_g  {u'9-5': 1, u'7-5': 1, u'13-3': 1, u'17-6': 1,...   \n",
      "1  mVHrayjG3uZ_RLHkLj-AMg  {u'11-5': 1, u'9-5': 2, u'9-4': 3, u'15-1': 1,...   \n",
      "2  mYSpR_SLPgUVymYOvTQd_Q  {u'5-5': 1, u'5-4': 1, u'9-3': 1, u'11-4': 1, ...   \n",
      "3  KayYbHCt-RkbGcPdGOThNg  {u'23-1': 1, u'11-2': 2, u'21-4': 1, u'16-1': ...   \n",
      "4  b12U9TFESStdy7CsTtcOeg  {u'5-5': 2, u'13-2': 1, u'8-6': 1, u'5-1': 2, ...   \n",
      "\n",
      "      type count  \n",
      "0  checkin     9  \n",
      "1  checkin    28  \n",
      "2  checkin     8  \n",
      "3  checkin    65  \n",
      "4  checkin     7  \n"
     ]
    }
   ],
   "source": [
    "print df_new_checkin.head()"
   ]
  },
  {
   "cell_type": "code",
   "execution_count": 32,
   "metadata": {
    "collapsed": false
   },
   "outputs": [
    {
     "name": "stdout",
     "output_type": "stream",
     "text": [
      "Index([u'business_id', u'checkin_info', u'type', u'count'], dtype='object')\n"
     ]
    }
   ],
   "source": [
    "print df_new_checkin.columns"
   ]
  },
  {
   "cell_type": "code",
   "execution_count": null,
   "metadata": {
    "collapsed": true
   },
   "outputs": [],
   "source": []
  }
 ],
 "metadata": {
  "kernelspec": {
   "display_name": "Python 2",
   "language": "python",
   "name": "python2"
  },
  "language_info": {
   "codemirror_mode": {
    "name": "ipython",
    "version": 2
   },
   "file_extension": ".py",
   "mimetype": "text/x-python",
   "name": "python",
   "nbconvert_exporter": "python",
   "pygments_lexer": "ipython2",
   "version": "2.7.12"
  }
 },
 "nbformat": 4,
 "nbformat_minor": 0
}
