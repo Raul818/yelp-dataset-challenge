{
 "cells": [
  {
   "cell_type": "code",
   "execution_count": 2,
   "metadata": {
    "collapsed": false
   },
   "outputs": [
    {
     "data": {
      "text/plain": [
       "u'0.19.0'"
      ]
     },
     "execution_count": 2,
     "metadata": {},
     "output_type": "execute_result"
    }
   ],
   "source": [
    "from pandas.io.json import json_normalize\n",
    "import pandas as pd\n",
    "\n",
    "pd.__version__\n"
   ]
  },
  {
   "cell_type": "code",
   "execution_count": 4,
   "metadata": {
    "collapsed": false
   },
   "outputs": [
    {
     "data": {
      "text/html": [
       "<div>\n",
       "<table border=\"1\" class=\"dataframe\">\n",
       "  <thead>\n",
       "    <tr style=\"text-align: right;\">\n",
       "      <th></th>\n",
       "      <th>business_id</th>\n",
       "      <th>checkin_info</th>\n",
       "      <th>type</th>\n",
       "    </tr>\n",
       "  </thead>\n",
       "  <tbody>\n",
       "    <tr>\n",
       "      <th>0</th>\n",
       "      <td>cE27W9VPgO88Qxe4ol6y_g</td>\n",
       "      <td>{u'9-5': 1, u'7-5': 1, u'13-3': 1, u'17-6': 1,...</td>\n",
       "      <td>checkin</td>\n",
       "    </tr>\n",
       "    <tr>\n",
       "      <th>1</th>\n",
       "      <td>mVHrayjG3uZ_RLHkLj-AMg</td>\n",
       "      <td>{u'11-5': 1, u'9-5': 2, u'9-4': 3, u'15-1': 1,...</td>\n",
       "      <td>checkin</td>\n",
       "    </tr>\n",
       "    <tr>\n",
       "      <th>2</th>\n",
       "      <td>mYSpR_SLPgUVymYOvTQd_Q</td>\n",
       "      <td>{u'5-5': 1, u'5-4': 1, u'9-3': 1, u'11-4': 1, ...</td>\n",
       "      <td>checkin</td>\n",
       "    </tr>\n",
       "    <tr>\n",
       "      <th>3</th>\n",
       "      <td>KayYbHCt-RkbGcPdGOThNg</td>\n",
       "      <td>{u'23-1': 1, u'11-2': 2, u'21-4': 1, u'16-1': ...</td>\n",
       "      <td>checkin</td>\n",
       "    </tr>\n",
       "    <tr>\n",
       "      <th>4</th>\n",
       "      <td>b12U9TFESStdy7CsTtcOeg</td>\n",
       "      <td>{u'5-5': 2, u'13-2': 1, u'8-6': 1, u'5-1': 2, ...</td>\n",
       "      <td>checkin</td>\n",
       "    </tr>\n",
       "  </tbody>\n",
       "</table>\n",
       "</div>"
      ],
      "text/plain": [
       "              business_id                                       checkin_info  \\\n",
       "0  cE27W9VPgO88Qxe4ol6y_g  {u'9-5': 1, u'7-5': 1, u'13-3': 1, u'17-6': 1,...   \n",
       "1  mVHrayjG3uZ_RLHkLj-AMg  {u'11-5': 1, u'9-5': 2, u'9-4': 3, u'15-1': 1,...   \n",
       "2  mYSpR_SLPgUVymYOvTQd_Q  {u'5-5': 1, u'5-4': 1, u'9-3': 1, u'11-4': 1, ...   \n",
       "3  KayYbHCt-RkbGcPdGOThNg  {u'23-1': 1, u'11-2': 2, u'21-4': 1, u'16-1': ...   \n",
       "4  b12U9TFESStdy7CsTtcOeg  {u'5-5': 2, u'13-2': 1, u'8-6': 1, u'5-1': 2, ...   \n",
       "\n",
       "      type  \n",
       "0  checkin  \n",
       "1  checkin  \n",
       "2  checkin  \n",
       "3  checkin  \n",
       "4  checkin  "
      ]
     },
     "execution_count": 4,
     "metadata": {},
     "output_type": "execute_result"
    }
   ],
   "source": [
    "df_checkin = pd.read_json('../../yelp_dataset_challenge_academic_dataset/yelp_academic_dataset_checkin.json', lines=True)\n",
    "(df_checkin.head(n=5))"
   ]
  },
  {
   "cell_type": "code",
   "execution_count": 5,
   "metadata": {
    "collapsed": false
   },
   "outputs": [
    {
     "name": "stdout",
     "output_type": "stream",
     "text": [
      "61049\n",
      "61049\n"
     ]
    }
   ],
   "source": [
    "print len(df_checkin['business_id'].unique())\n",
    "print len(df_checkin)"
   ]
  },
  {
   "cell_type": "markdown",
   "metadata": {},
   "source": [
    "This implies all the business ids are unique."
   ]
  },
  {
   "cell_type": "code",
   "execution_count": 7,
   "metadata": {
    "collapsed": false
   },
   "outputs": [],
   "source": [
    "df_business = pd.read_json('../../yelp_dataset_challenge_academic_dataset/yelp_academic_dataset_business.json', lines=True)"
   ]
  },
  {
   "cell_type": "code",
   "execution_count": 8,
   "metadata": {
    "collapsed": false
   },
   "outputs": [
    {
     "name": "stdout",
     "output_type": "stream",
     "text": [
      "85901\n"
     ]
    }
   ],
   "source": [
    "print len(df_business['business_id'].unique())"
   ]
  },
  {
   "cell_type": "markdown",
   "metadata": {},
   "source": [
    "Check if any of the 61049 restaurants in checkin dataset are present in the total list of 85901 restaurants. "
   ]
  },
  {
   "cell_type": "markdown",
   "metadata": {
    "collapsed": false
   },
   "source": [
    "All businesses present in the checkin dataset are present in the business dataset. Let's count their checkins."
   ]
  },
  {
   "cell_type": "code",
   "execution_count": 31,
   "metadata": {
    "collapsed": false
   },
   "outputs": [
    {
     "name": "stdout",
     "output_type": "stream",
     "text": [
      "  checkin_count\n",
      "0             9\n",
      "1            28\n",
      "2             8\n",
      "3            65\n",
      "4             7\n"
     ]
    }
   ],
   "source": [
    "df_count = pd.DataFrame(index=df_checkin.index, columns=[\"checkin_count\"])\n",
    "#print df_count.head()\n",
    "for i,r in df_checkin.iterrows():\n",
    "    #print df_checkin['checkin_info'][i].values()\n",
    "    df_count['checkin_count'][i] = sum(df_checkin['checkin_info'][i].values())\n",
    "\n",
    "print df_count.head(n=5)"
   ]
  },
  {
   "cell_type": "code",
   "execution_count": 32,
   "metadata": {
    "collapsed": false
   },
   "outputs": [
    {
     "name": "stdout",
     "output_type": "stream",
     "text": [
      "61049\n",
      "Max num of checkins checkin_count    85243.0\n",
      "dtype: float64\n",
      "Min num of checkins checkin_count    3.0\n",
      "dtype: float64\n"
     ]
    }
   ],
   "source": [
    "print len(df_count)\n",
    "print \"Max num of checkins\", df_count.max()\n",
    "print \"Min num of checkins\", df_count.min()"
   ]
  },
  {
   "cell_type": "code",
   "execution_count": 33,
   "metadata": {
    "collapsed": true
   },
   "outputs": [],
   "source": [
    "df_new_checkin = pd.concat([df_checkin, df_count], axis=1)"
   ]
  },
  {
   "cell_type": "code",
   "execution_count": 34,
   "metadata": {
    "collapsed": false
   },
   "outputs": [
    {
     "name": "stdout",
     "output_type": "stream",
     "text": [
      "              business_id                                       checkin_info  \\\n",
      "0  cE27W9VPgO88Qxe4ol6y_g  {u'9-5': 1, u'7-5': 1, u'13-3': 1, u'17-6': 1,...   \n",
      "1  mVHrayjG3uZ_RLHkLj-AMg  {u'11-5': 1, u'9-5': 2, u'9-4': 3, u'15-1': 1,...   \n",
      "2  mYSpR_SLPgUVymYOvTQd_Q  {u'5-5': 1, u'5-4': 1, u'9-3': 1, u'11-4': 1, ...   \n",
      "3  KayYbHCt-RkbGcPdGOThNg  {u'23-1': 1, u'11-2': 2, u'21-4': 1, u'16-1': ...   \n",
      "4  b12U9TFESStdy7CsTtcOeg  {u'5-5': 2, u'13-2': 1, u'8-6': 1, u'5-1': 2, ...   \n",
      "\n",
      "      type checkin_count  \n",
      "0  checkin             9  \n",
      "1  checkin            28  \n",
      "2  checkin             8  \n",
      "3  checkin            65  \n",
      "4  checkin             7  \n"
     ]
    }
   ],
   "source": [
    "print df_new_checkin.head()"
   ]
  },
  {
   "cell_type": "code",
   "execution_count": 35,
   "metadata": {
    "collapsed": false
   },
   "outputs": [
    {
     "name": "stdout",
     "output_type": "stream",
     "text": [
      "Index([u'business_id', u'checkin_info', u'type', u'checkin_count'], dtype='object')\n"
     ]
    }
   ],
   "source": [
    "print df_new_checkin.columns"
   ]
  },
  {
   "cell_type": "markdown",
   "metadata": {
    "collapsed": true
   },
   "source": [
    "Add the checkin count to business dataset."
   ]
  },
  {
   "cell_type": "code",
   "execution_count": 108,
   "metadata": {
    "collapsed": false
   },
   "outputs": [],
   "source": [
    "df_business_chekin = pd.merge(df_business,df_new_checkin, how='left', on=['business_id', 'business_id'])[['attributes','business_id','categories','city','hours','open','review_count', 'stars', 'checkin_count']]"
   ]
  },
  {
   "cell_type": "code",
   "execution_count": 109,
   "metadata": {
    "collapsed": false
   },
   "outputs": [
    {
     "data": {
      "text/html": [
       "<div>\n",
       "<table border=\"1\" class=\"dataframe\">\n",
       "  <thead>\n",
       "    <tr style=\"text-align: right;\">\n",
       "      <th></th>\n",
       "      <th>attributes</th>\n",
       "      <th>business_id</th>\n",
       "      <th>categories</th>\n",
       "      <th>city</th>\n",
       "      <th>hours</th>\n",
       "      <th>open</th>\n",
       "      <th>review_count</th>\n",
       "      <th>stars</th>\n",
       "      <th>checkin_count</th>\n",
       "    </tr>\n",
       "  </thead>\n",
       "  <tbody>\n",
       "    <tr>\n",
       "      <th>0</th>\n",
       "      <td>{u'Take-out': True, u'Drive-Thru': False, u'Ou...</td>\n",
       "      <td>5UmKMjUEUNdYWqANhGckJw</td>\n",
       "      <td>[Fast Food, Restaurants]</td>\n",
       "      <td>Dravosburg</td>\n",
       "      <td>{u'Tuesday': {u'close': u'21:00', u'open': u'1...</td>\n",
       "      <td>True</td>\n",
       "      <td>7</td>\n",
       "      <td>3.5</td>\n",
       "      <td>NaN</td>\n",
       "    </tr>\n",
       "    <tr>\n",
       "      <th>1</th>\n",
       "      <td>{u'Happy Hour': True, u'Accepts Credit Cards':...</td>\n",
       "      <td>UsFtqoBl7naz8AVUBZMjQQ</td>\n",
       "      <td>[Nightlife]</td>\n",
       "      <td>Dravosburg</td>\n",
       "      <td>{}</td>\n",
       "      <td>True</td>\n",
       "      <td>5</td>\n",
       "      <td>3.0</td>\n",
       "      <td>NaN</td>\n",
       "    </tr>\n",
       "    <tr>\n",
       "      <th>2</th>\n",
       "      <td>{u'Good for Kids': True}</td>\n",
       "      <td>cE27W9VPgO88Qxe4ol6y_g</td>\n",
       "      <td>[Active Life, Mini Golf, Golf]</td>\n",
       "      <td>Bethel Park</td>\n",
       "      <td>{}</td>\n",
       "      <td>False</td>\n",
       "      <td>5</td>\n",
       "      <td>2.5</td>\n",
       "      <td>9</td>\n",
       "    </tr>\n",
       "    <tr>\n",
       "      <th>3</th>\n",
       "      <td>{u'Alcohol': u'full_bar', u'Noise Level': u'av...</td>\n",
       "      <td>mVHrayjG3uZ_RLHkLj-AMg</td>\n",
       "      <td>[Bars, American (New), Nightlife, Lounges, Res...</td>\n",
       "      <td>Braddock</td>\n",
       "      <td>{u'Tuesday': {u'close': u'19:00', u'open': u'1...</td>\n",
       "      <td>True</td>\n",
       "      <td>26</td>\n",
       "      <td>4.5</td>\n",
       "      <td>28</td>\n",
       "    </tr>\n",
       "    <tr>\n",
       "      <th>4</th>\n",
       "      <td>{u'Takes Reservations': True, u'Accepts Credit...</td>\n",
       "      <td>mYSpR_SLPgUVymYOvTQd_Q</td>\n",
       "      <td>[Active Life, Golf]</td>\n",
       "      <td>Braddock</td>\n",
       "      <td>{u'Sunday': {u'close': u'15:00', u'open': u'10...</td>\n",
       "      <td>True</td>\n",
       "      <td>3</td>\n",
       "      <td>5.0</td>\n",
       "      <td>8</td>\n",
       "    </tr>\n",
       "  </tbody>\n",
       "</table>\n",
       "</div>"
      ],
      "text/plain": [
       "                                          attributes             business_id  \\\n",
       "0  {u'Take-out': True, u'Drive-Thru': False, u'Ou...  5UmKMjUEUNdYWqANhGckJw   \n",
       "1  {u'Happy Hour': True, u'Accepts Credit Cards':...  UsFtqoBl7naz8AVUBZMjQQ   \n",
       "2                           {u'Good for Kids': True}  cE27W9VPgO88Qxe4ol6y_g   \n",
       "3  {u'Alcohol': u'full_bar', u'Noise Level': u'av...  mVHrayjG3uZ_RLHkLj-AMg   \n",
       "4  {u'Takes Reservations': True, u'Accepts Credit...  mYSpR_SLPgUVymYOvTQd_Q   \n",
       "\n",
       "                                          categories         city  \\\n",
       "0                           [Fast Food, Restaurants]   Dravosburg   \n",
       "1                                        [Nightlife]   Dravosburg   \n",
       "2                     [Active Life, Mini Golf, Golf]  Bethel Park   \n",
       "3  [Bars, American (New), Nightlife, Lounges, Res...     Braddock   \n",
       "4                                [Active Life, Golf]     Braddock   \n",
       "\n",
       "                                               hours   open  review_count  \\\n",
       "0  {u'Tuesday': {u'close': u'21:00', u'open': u'1...   True             7   \n",
       "1                                                 {}   True             5   \n",
       "2                                                 {}  False             5   \n",
       "3  {u'Tuesday': {u'close': u'19:00', u'open': u'1...   True            26   \n",
       "4  {u'Sunday': {u'close': u'15:00', u'open': u'10...   True             3   \n",
       "\n",
       "   stars checkin_count  \n",
       "0    3.5           NaN  \n",
       "1    3.0           NaN  \n",
       "2    2.5             9  \n",
       "3    4.5            28  \n",
       "4    5.0             8  "
      ]
     },
     "execution_count": 109,
     "metadata": {},
     "output_type": "execute_result"
    }
   ],
   "source": [
    "df_business_chekin.head()"
   ]
  },
  {
   "cell_type": "markdown",
   "metadata": {},
   "source": [
    "Fill Nan in checkin_count with 1."
   ]
  },
  {
   "cell_type": "code",
   "execution_count": 110,
   "metadata": {
    "collapsed": false
   },
   "outputs": [],
   "source": [
    "df_business_chekin['checkin_count'].fillna(1, inplace=True)"
   ]
  },
  {
   "cell_type": "code",
   "execution_count": 111,
   "metadata": {
    "collapsed": false
   },
   "outputs": [
    {
     "data": {
      "text/html": [
       "<div>\n",
       "<table border=\"1\" class=\"dataframe\">\n",
       "  <thead>\n",
       "    <tr style=\"text-align: right;\">\n",
       "      <th></th>\n",
       "      <th>attributes</th>\n",
       "      <th>business_id</th>\n",
       "      <th>categories</th>\n",
       "      <th>city</th>\n",
       "      <th>hours</th>\n",
       "      <th>open</th>\n",
       "      <th>review_count</th>\n",
       "      <th>stars</th>\n",
       "      <th>checkin_count</th>\n",
       "    </tr>\n",
       "  </thead>\n",
       "  <tbody>\n",
       "    <tr>\n",
       "      <th>0</th>\n",
       "      <td>{u'Take-out': True, u'Drive-Thru': False, u'Ou...</td>\n",
       "      <td>5UmKMjUEUNdYWqANhGckJw</td>\n",
       "      <td>[Fast Food, Restaurants]</td>\n",
       "      <td>Dravosburg</td>\n",
       "      <td>{u'Tuesday': {u'close': u'21:00', u'open': u'1...</td>\n",
       "      <td>True</td>\n",
       "      <td>7</td>\n",
       "      <td>3.5</td>\n",
       "      <td>1</td>\n",
       "    </tr>\n",
       "    <tr>\n",
       "      <th>1</th>\n",
       "      <td>{u'Happy Hour': True, u'Accepts Credit Cards':...</td>\n",
       "      <td>UsFtqoBl7naz8AVUBZMjQQ</td>\n",
       "      <td>[Nightlife]</td>\n",
       "      <td>Dravosburg</td>\n",
       "      <td>{}</td>\n",
       "      <td>True</td>\n",
       "      <td>5</td>\n",
       "      <td>3.0</td>\n",
       "      <td>1</td>\n",
       "    </tr>\n",
       "    <tr>\n",
       "      <th>2</th>\n",
       "      <td>{u'Good for Kids': True}</td>\n",
       "      <td>cE27W9VPgO88Qxe4ol6y_g</td>\n",
       "      <td>[Active Life, Mini Golf, Golf]</td>\n",
       "      <td>Bethel Park</td>\n",
       "      <td>{}</td>\n",
       "      <td>False</td>\n",
       "      <td>5</td>\n",
       "      <td>2.5</td>\n",
       "      <td>9</td>\n",
       "    </tr>\n",
       "    <tr>\n",
       "      <th>3</th>\n",
       "      <td>{u'Alcohol': u'full_bar', u'Noise Level': u'av...</td>\n",
       "      <td>mVHrayjG3uZ_RLHkLj-AMg</td>\n",
       "      <td>[Bars, American (New), Nightlife, Lounges, Res...</td>\n",
       "      <td>Braddock</td>\n",
       "      <td>{u'Tuesday': {u'close': u'19:00', u'open': u'1...</td>\n",
       "      <td>True</td>\n",
       "      <td>26</td>\n",
       "      <td>4.5</td>\n",
       "      <td>28</td>\n",
       "    </tr>\n",
       "    <tr>\n",
       "      <th>4</th>\n",
       "      <td>{u'Takes Reservations': True, u'Accepts Credit...</td>\n",
       "      <td>mYSpR_SLPgUVymYOvTQd_Q</td>\n",
       "      <td>[Active Life, Golf]</td>\n",
       "      <td>Braddock</td>\n",
       "      <td>{u'Sunday': {u'close': u'15:00', u'open': u'10...</td>\n",
       "      <td>True</td>\n",
       "      <td>3</td>\n",
       "      <td>5.0</td>\n",
       "      <td>8</td>\n",
       "    </tr>\n",
       "  </tbody>\n",
       "</table>\n",
       "</div>"
      ],
      "text/plain": [
       "                                          attributes             business_id  \\\n",
       "0  {u'Take-out': True, u'Drive-Thru': False, u'Ou...  5UmKMjUEUNdYWqANhGckJw   \n",
       "1  {u'Happy Hour': True, u'Accepts Credit Cards':...  UsFtqoBl7naz8AVUBZMjQQ   \n",
       "2                           {u'Good for Kids': True}  cE27W9VPgO88Qxe4ol6y_g   \n",
       "3  {u'Alcohol': u'full_bar', u'Noise Level': u'av...  mVHrayjG3uZ_RLHkLj-AMg   \n",
       "4  {u'Takes Reservations': True, u'Accepts Credit...  mYSpR_SLPgUVymYOvTQd_Q   \n",
       "\n",
       "                                          categories         city  \\\n",
       "0                           [Fast Food, Restaurants]   Dravosburg   \n",
       "1                                        [Nightlife]   Dravosburg   \n",
       "2                     [Active Life, Mini Golf, Golf]  Bethel Park   \n",
       "3  [Bars, American (New), Nightlife, Lounges, Res...     Braddock   \n",
       "4                                [Active Life, Golf]     Braddock   \n",
       "\n",
       "                                               hours   open  review_count  \\\n",
       "0  {u'Tuesday': {u'close': u'21:00', u'open': u'1...   True             7   \n",
       "1                                                 {}   True             5   \n",
       "2                                                 {}  False             5   \n",
       "3  {u'Tuesday': {u'close': u'19:00', u'open': u'1...   True            26   \n",
       "4  {u'Sunday': {u'close': u'15:00', u'open': u'10...   True             3   \n",
       "\n",
       "   stars  checkin_count  \n",
       "0    3.5              1  \n",
       "1    3.0              1  \n",
       "2    2.5              9  \n",
       "3    4.5             28  \n",
       "4    5.0              8  "
      ]
     },
     "execution_count": 111,
     "metadata": {},
     "output_type": "execute_result"
    }
   ],
   "source": [
    "df_business_chekin.head()"
   ]
  },
  {
   "cell_type": "code",
   "execution_count": 112,
   "metadata": {
    "collapsed": false
   },
   "outputs": [],
   "source": [
    "with open(\"../out/business_with_checkin_count.json\", \"w+\") as output_file:\n",
    "    output_file.write(df_business_chekin.to_json())"
   ]
  },
  {
   "cell_type": "code",
   "execution_count": 113,
   "metadata": {
    "collapsed": false
   },
   "outputs": [
    {
     "data": {
      "text/html": [
       "<div>\n",
       "<table border=\"1\" class=\"dataframe\">\n",
       "  <thead>\n",
       "    <tr style=\"text-align: right;\">\n",
       "      <th></th>\n",
       "      <th>attributes</th>\n",
       "      <th>business_id</th>\n",
       "      <th>categories</th>\n",
       "      <th>checkin_count</th>\n",
       "      <th>city</th>\n",
       "      <th>hours</th>\n",
       "      <th>open</th>\n",
       "      <th>review_count</th>\n",
       "      <th>stars</th>\n",
       "    </tr>\n",
       "  </thead>\n",
       "  <tbody>\n",
       "    <tr>\n",
       "      <th>0</th>\n",
       "      <td>{u'Take-out': True, u'Drive-Thru': False, u'Go...</td>\n",
       "      <td>5UmKMjUEUNdYWqANhGckJw</td>\n",
       "      <td>[Fast Food, Restaurants]</td>\n",
       "      <td>1</td>\n",
       "      <td>Dravosburg</td>\n",
       "      <td>{u'Thursday': {u'close': u'21:00', u'open': u'...</td>\n",
       "      <td>True</td>\n",
       "      <td>7</td>\n",
       "      <td>3.5</td>\n",
       "    </tr>\n",
       "    <tr>\n",
       "      <th>1</th>\n",
       "      <td>{u'Happy Hour': True, u'Accepts Credit Cards':...</td>\n",
       "      <td>UsFtqoBl7naz8AVUBZMjQQ</td>\n",
       "      <td>[Nightlife]</td>\n",
       "      <td>1</td>\n",
       "      <td>Dravosburg</td>\n",
       "      <td>{}</td>\n",
       "      <td>True</td>\n",
       "      <td>5</td>\n",
       "      <td>3.0</td>\n",
       "    </tr>\n",
       "    <tr>\n",
       "      <th>10</th>\n",
       "      <td>{u'Wi-Fi': u'free'}</td>\n",
       "      <td>1_lU0-eSWJCRvNGk78Zh9Q</td>\n",
       "      <td>[Libraries, Public Services &amp; Government]</td>\n",
       "      <td>5</td>\n",
       "      <td>Carnegie</td>\n",
       "      <td>{}</td>\n",
       "      <td>True</td>\n",
       "      <td>4</td>\n",
       "      <td>4.5</td>\n",
       "    </tr>\n",
       "    <tr>\n",
       "      <th>100</th>\n",
       "      <td>{u'Wheelchair Accessible': True, u'Take-out': ...</td>\n",
       "      <td>8Nm_jcCYtMXYW0ODSHDiXA</td>\n",
       "      <td>[Seafood, Steakhouses, Japanese, Restaurants]</td>\n",
       "      <td>17</td>\n",
       "      <td>Pittsburgh</td>\n",
       "      <td>{u'Monday': {u'close': u'22:00', u'open': u'16...</td>\n",
       "      <td>True</td>\n",
       "      <td>10</td>\n",
       "      <td>4.0</td>\n",
       "    </tr>\n",
       "    <tr>\n",
       "      <th>1000</th>\n",
       "      <td>{u'Take-out': True, u'Good For': {u'dessert': ...</td>\n",
       "      <td>WYnveDiSEXLCeNkLZrXibQ</td>\n",
       "      <td>[Bars, Food, Beer, Wine &amp; Spirits, Delis, Nigh...</td>\n",
       "      <td>16</td>\n",
       "      <td>Charlotte</td>\n",
       "      <td>{u'Monday': {u'close': u'23:00', u'open': u'09...</td>\n",
       "      <td>True</td>\n",
       "      <td>12</td>\n",
       "      <td>3.0</td>\n",
       "    </tr>\n",
       "  </tbody>\n",
       "</table>\n",
       "</div>"
      ],
      "text/plain": [
       "                                             attributes  \\\n",
       "0     {u'Take-out': True, u'Drive-Thru': False, u'Go...   \n",
       "1     {u'Happy Hour': True, u'Accepts Credit Cards':...   \n",
       "10                                  {u'Wi-Fi': u'free'}   \n",
       "100   {u'Wheelchair Accessible': True, u'Take-out': ...   \n",
       "1000  {u'Take-out': True, u'Good For': {u'dessert': ...   \n",
       "\n",
       "                 business_id  \\\n",
       "0     5UmKMjUEUNdYWqANhGckJw   \n",
       "1     UsFtqoBl7naz8AVUBZMjQQ   \n",
       "10    1_lU0-eSWJCRvNGk78Zh9Q   \n",
       "100   8Nm_jcCYtMXYW0ODSHDiXA   \n",
       "1000  WYnveDiSEXLCeNkLZrXibQ   \n",
       "\n",
       "                                             categories  checkin_count  \\\n",
       "0                              [Fast Food, Restaurants]              1   \n",
       "1                                           [Nightlife]              1   \n",
       "10            [Libraries, Public Services & Government]              5   \n",
       "100       [Seafood, Steakhouses, Japanese, Restaurants]             17   \n",
       "1000  [Bars, Food, Beer, Wine & Spirits, Delis, Nigh...             16   \n",
       "\n",
       "            city                                              hours  open  \\\n",
       "0     Dravosburg  {u'Thursday': {u'close': u'21:00', u'open': u'...  True   \n",
       "1     Dravosburg                                                 {}  True   \n",
       "10      Carnegie                                                 {}  True   \n",
       "100   Pittsburgh  {u'Monday': {u'close': u'22:00', u'open': u'16...  True   \n",
       "1000   Charlotte  {u'Monday': {u'close': u'23:00', u'open': u'09...  True   \n",
       "\n",
       "      review_count  stars  \n",
       "0                7    3.5  \n",
       "1                5    3.0  \n",
       "10               4    4.5  \n",
       "100             10    4.0  \n",
       "1000            12    3.0  "
      ]
     },
     "execution_count": 113,
     "metadata": {},
     "output_type": "execute_result"
    }
   ],
   "source": [
    "df = pd.read_json('../out/business_with_checkin_count.json')\n",
    "df.head()"
   ]
  },
  {
   "cell_type": "code",
   "execution_count": null,
   "metadata": {
    "collapsed": true
   },
   "outputs": [],
   "source": []
  }
 ],
 "metadata": {
  "kernelspec": {
   "display_name": "Python 2",
   "language": "python",
   "name": "python2"
  },
  "language_info": {
   "codemirror_mode": {
    "name": "ipython",
    "version": 2
   },
   "file_extension": ".py",
   "mimetype": "text/x-python",
   "name": "python",
   "nbconvert_exporter": "python",
   "pygments_lexer": "ipython2",
   "version": "2.7.12"
  }
 },
 "nbformat": 4,
 "nbformat_minor": 0
}
